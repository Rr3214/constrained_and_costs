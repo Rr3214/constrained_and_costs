{
  "cells": [
    {
      "cell_type": "code",
      "execution_count": 1,
      "id": "57cedeb7",
      "metadata": {},
      "outputs": [],
      "source": [
        "%load_ext autoreload\n",
        "%autoreload 2"
      ]
    },
    {
      "cell_type": "markdown",
      "id": "a3346f82",
      "metadata": {},
      "source": [
        "### The original notebook, as got from Danit"
      ]
    },
    {
      "cell_type": "code",
      "execution_count": 2,
      "id": "d03c0ff0",
      "metadata": {
        "id": "d03c0ff0",
        "outputId": "d7340cbf-3b21-4536-f20c-0320f6f3e2c7"
      },
      "outputs": [],
      "source": [
        "import numpy as np\n",
        "import pandas as pd\n",
        "from pprint import pprint\n",
        "from scipy import stats\n",
        "from sklearn.model_selection import GridSearchCV\n",
        "from sklearn.model_selection import train_test_split\n",
        "from sklearn.model_selection import KFold\n",
        "from sklearn.model_selection import StratifiedKFold\n",
        "#from costcla.metrics import cost_loss, savings_score\n",
        "# from costcla.models import CostSensitiveDecisionTreeClassifier\n",
        "from sklearn.metrics import accuracy_score\n",
        "from sklearn.metrics import confusion_matrix\n",
        "import matplotlib.pyplot as plt\n",
        "from sklearn import metrics\n",
        "from mpl_toolkits.axes_grid1.inset_locator import zoomed_inset_axes, mark_inset\n",
        "from sklearn.tree import DecisionTreeClassifier\n",
        "from sklearn.metrics import f1_score\n",
        "import random\n",
        "import math\n",
        "from sklearn.feature_selection import mutual_info_classif\n",
        "import pickle\n",
        "import timeit"
      ]
    },
    {
      "cell_type": "code",
      "execution_count": 3,
      "id": "3e60b9ea",
      "metadata": {},
      "outputs": [],
      "source": [
        "from ada_csl_wrc.legacy import *"
      ]
    },
    {
      "cell_type": "code",
      "execution_count": 4,
      "id": "67fc8943",
      "metadata": {
        "id": "67fc8943",
        "scrolled": true
      },
      "outputs": [],
      "source": [
        "df = pd.read_csv('data/marketing_campaign.csv', sep=\";\")\n",
        "df = df.drop(['Z_CostContact', 'Z_Revenue', 'Income', 'Dt_Customer', 'ID'], axis = 1)\n",
        "categorial_col = df.columns.drop(df.describe().columns)\n",
        "for col in categorial_col:\n",
        "    df[col] = df[col].astype('category').cat.codes\n",
        "\n",
        "category_col = []\n",
        "for col in df.columns:\n",
        "#     print(col)\n",
        "#     print(df[col].value_counts().shape[0])\n",
        "    if df[col].value_counts().shape[0] < 3:\n",
        "        category_col.append(col)\n",
        "category_col\n",
        "\n",
        "X = df.drop(labels = 'Response', axis=1)\n",
        "y = df['Response']"
      ]
    },
    {
      "cell_type": "code",
      "execution_count": 5,
      "id": "db04b09d",
      "metadata": {
        "id": "db04b09d",
        "outputId": "aaad0c90-c7fa-4bb2-9a5a-94158ec0e486"
      },
      "outputs": [
        {
          "data": {
            "text/plain": [
              "array([8.80601382e-03, 2.54551689e-03, 0.00000000e+00, 0.00000000e+00,\n",
              "       1.96628618e-02, 2.42494947e-02, 4.14050997e-02, 1.39431650e-02,\n",
              "       5.22633828e-02, 9.18862998e-03, 1.41310034e-03, 2.87678212e-02,\n",
              "       1.06650101e-02, 2.05330323e-02, 2.79378261e-02, 4.29813388e-03,\n",
              "       8.45201813e-03, 2.37630991e-02, 1.22757562e-02, 3.75929348e-02,\n",
              "       3.04818699e-02, 9.38244534e-03, 1.47386329e-06])"
            ]
          },
          "execution_count": 5,
          "metadata": {},
          "output_type": "execute_result"
        }
      ],
      "source": [
        "mask_cat_col = []\n",
        "for col in X.columns:\n",
        "    if col in category_col:\n",
        "        mask_cat_col.append(True)\n",
        "    else:\n",
        "        mask_cat_col.append(False)\n",
        "mask_cat_col\n",
        "\n",
        "mutual_info = mutual_info_classif(X, y, discrete_features=mask_cat_col, n_neighbors=3, copy=True, random_state=41)\n",
        "mutual_info"
      ]
    },
    {
      "cell_type": "code",
      "execution_count": 8,
      "id": "521dcb95",
      "metadata": {},
      "outputs": [
        {
          "data": {
            "text/plain": [
              "23"
            ]
          },
          "execution_count": 8,
          "metadata": {},
          "output_type": "execute_result"
        }
      ],
      "source": [
        "len(mask_cat_col)"
      ]
    },
    {
      "cell_type": "code",
      "execution_count": 10,
      "id": "e3c445c8",
      "metadata": {
        "id": "e3c445c8",
        "outputId": "2ae683e1-1c06-41f7-d367-c440c5c75650"
      },
      "outputs": [
        {
          "ename": "AttributeError",
          "evalue": "'numpy.ndarray' object has no attribute 'to_numpy'",
          "output_type": "error",
          "traceback": [
            "\u001b[1;31m---------------------------------------------------------------------------\u001b[0m",
            "\u001b[1;31mAttributeError\u001b[0m                            Traceback (most recent call last)",
            "\u001b[1;32mc:\\Users\\imargolin\\Documents\\self_projects\\biu\\ucp_2nd_year\\temp_name\\AdaCSL_WRC_final_version.ipynb Cell 7\u001b[0m line \u001b[0;36m5\n\u001b[0;32m      <a href='vscode-notebook-cell:/c%3A/Users/imargolin/Documents/self_projects/biu/ucp_2nd_year/temp_name/AdaCSL_WRC_final_version.ipynb#W5sZmlsZQ%3D%3D?line=2'>3</a>\u001b[0m t \u001b[39m=\u001b[39m cfp\u001b[39m/\u001b[39m(cfp\u001b[39m+\u001b[39mcfn)\n\u001b[0;32m      <a href='vscode-notebook-cell:/c%3A/Users/imargolin/Documents/self_projects/biu/ucp_2nd_year/temp_name/AdaCSL_WRC_final_version.ipynb#W5sZmlsZQ%3D%3D?line=3'>4</a>\u001b[0m constraint \u001b[39m=\u001b[39m [\u001b[39mint\u001b[39m(x) \u001b[39mfor\u001b[39;00m x \u001b[39min\u001b[39;00m \u001b[39mrange\u001b[39m(\u001b[39m27\u001b[39m,\u001b[39m140\u001b[39m)] \u001b[39m# uptade the constraint range to be between 0.25*P to 1.25*P\u001b[39;00m\n\u001b[1;32m----> <a href='vscode-notebook-cell:/c%3A/Users/imargolin/Documents/self_projects/biu/ucp_2nd_year/temp_name/AdaCSL_WRC_final_version.ipynb#W5sZmlsZQ%3D%3D?line=4'>5</a>\u001b[0m X \u001b[39m=\u001b[39m X\u001b[39m.\u001b[39mto_numpy()\n\u001b[0;32m      <a href='vscode-notebook-cell:/c%3A/Users/imargolin/Documents/self_projects/biu/ucp_2nd_year/temp_name/AdaCSL_WRC_final_version.ipynb#W5sZmlsZQ%3D%3D?line=5'>6</a>\u001b[0m y \u001b[39m=\u001b[39m y\u001b[39m.\u001b[39mto_numpy()\n\u001b[0;32m      <a href='vscode-notebook-cell:/c%3A/Users/imargolin/Documents/self_projects/biu/ucp_2nd_year/temp_name/AdaCSL_WRC_final_version.ipynb#W5sZmlsZQ%3D%3D?line=6'>7</a>\u001b[0m \u001b[39m#accuracy based model\u001b[39;00m\n",
            "\u001b[1;31mAttributeError\u001b[0m: 'numpy.ndarray' object has no attribute 'to_numpy'"
          ]
        }
      ],
      "source": [
        "cfn = 10\n",
        "cfp = 1\n",
        "t = cfp/(cfp+cfn)\n",
        "constraint = [int(x) for x in range(27,140)] # uptade the constraint range to be between 0.25*P to 1.25*P\n",
        "X = X.to_numpy()\n",
        "y = y.to_numpy()\n",
        "#accuracy based model\n",
        "clf_dt = DecisionTreeClassifier()\n",
        "max_depth = [3, 5, 10, 15]\n",
        "criterion = ['gini','entropy']\n",
        "min_samples_leaf = [10, 15, 20, 30]\n",
        "param_grid = {'max_depth': max_depth,\n",
        "               'min_samples_leaf': min_samples_leaf,\n",
        "               'criterion': criterion}\n",
        "pprint(param_grid)\n",
        "grid_search = GridSearchCV(estimator = clf_dt, param_grid = param_grid, cv = 10, n_jobs = -1, verbose = 2)\n",
        "grid_search.fit(X,y)\n",
        "print(grid_search.best_params_)\n",
        "clf_dt = grid_search.best_estimator_\n",
        "grid_search.best_params_\n",
        "\n",
        "best_combination = [15, 5, True, 0.001] # for CS-DT"
      ]
    },
    {
      "cell_type": "code",
      "execution_count": 30,
      "id": "d3db3b43",
      "metadata": {},
      "outputs": [
        {
          "data": {
            "text/plain": [
              "{'criterion': 'gini', 'max_depth': 3, 'min_samples_leaf': 20}"
            ]
          },
          "execution_count": 30,
          "metadata": {},
          "output_type": "execute_result"
        }
      ],
      "source": [
        "grid_search.best_params_"
      ]
    },
    {
      "cell_type": "code",
      "execution_count": 9,
      "id": "0c315c2b",
      "metadata": {
        "id": "0c315c2b",
        "outputId": "6b56ecdb-c4ea-49de-cab6-3a77f86a995a"
      },
      "outputs": [
        {
          "name": "stdout",
          "output_type": "stream",
          "text": [
            "[0, 1, 2, 3, 4, 5, 7, 9, 10, 12, 13, 15, 16, 17, 18, 21, 22]\n",
            "[0, 1, 2, 3, 9, 10, 12, 15, 16, 21, 22]\n"
          ]
        },
        {
          "ename": "NameError",
          "evalue": "name 'cfn' is not defined",
          "output_type": "error",
          "traceback": [
            "\u001b[1;31m---------------------------------------------------------------------------\u001b[0m",
            "\u001b[1;31mNameError\u001b[0m                                 Traceback (most recent call last)",
            "\u001b[1;32mc:\\Users\\imargolin\\Documents\\self_projects\\biu\\ucp_2nd_year\\temp_name\\AdaCSL_WRC_final_version.ipynb Cell 9\u001b[0m line \u001b[0;36m2\n\u001b[0;32m     <a href='vscode-notebook-cell:/c%3A/Users/imargolin/Documents/self_projects/biu/ucp_2nd_year/temp_name/AdaCSL_WRC_final_version.ipynb#X10sZmlsZQ%3D%3D?line=21'>22</a>\u001b[0m X \u001b[39m=\u001b[39m X\u001b[39m.\u001b[39mto_numpy()\n\u001b[0;32m     <a href='vscode-notebook-cell:/c%3A/Users/imargolin/Documents/self_projects/biu/ucp_2nd_year/temp_name/AdaCSL_WRC_final_version.ipynb#X10sZmlsZQ%3D%3D?line=22'>23</a>\u001b[0m y \u001b[39m=\u001b[39m y\u001b[39m.\u001b[39mto_numpy()\n\u001b[1;32m---> <a href='vscode-notebook-cell:/c%3A/Users/imargolin/Documents/self_projects/biu/ucp_2nd_year/temp_name/AdaCSL_WRC_final_version.ipynb#X10sZmlsZQ%3D%3D?line=23'>24</a>\u001b[0m r \u001b[39m=\u001b[39m y\u001b[39m*\u001b[39mcfn \u001b[39m+\u001b[39m(\u001b[39m1\u001b[39m\u001b[39m-\u001b[39my)\u001b[39m*\u001b[39m(\u001b[39m-\u001b[39mcfp)\n",
            "\u001b[1;31mNameError\u001b[0m: name 'cfn' is not defined"
          ]
        }
      ],
      "source": [
        "X = df.drop(labels = 'Response', axis=1)\n",
        "y = df['Response']\n",
        "\n",
        "\n",
        "# drop columns\n",
        "worst_features =[]\n",
        "for i,v in enumerate(mutual_info):\n",
        "    if v in sorted(mutual_info)[:17]: # update to 0.75*num_of_features\n",
        "        worst_features.append(i)\n",
        "print(worst_features)\n",
        "X_17 = X.iloc[:, worst_features]\n",
        "X_17 = X_17.to_numpy()\n",
        "\n",
        "worst_features =[]\n",
        "for i,v in enumerate(mutual_info):\n",
        "    if v in sorted(mutual_info)[:11]: # update to 0.5*num_of_features\n",
        "        worst_features.append(i)\n",
        "print(worst_features)\n",
        "X_11 = X.iloc[:, worst_features]\n",
        "X_11 = X_11.to_numpy()\n",
        "\n",
        "X = X.to_numpy()\n",
        "y = y.to_numpy()\n",
        "r = y*cfn +(1-y)*(-cfp)"
      ]
    },
    {
      "cell_type": "code",
      "execution_count": 9,
      "id": "8b94091c",
      "metadata": {
        "id": "8b94091c"
      },
      "outputs": [],
      "source": [
        "# X_train, X_test, y_train, y_test = train_test_split(X, y, test_size=0.33, random_state=42)\n",
        "# cost_mat_train_i = cost_mat(1,10,y_train)\n",
        "# clf_cs_dt.fit(np.array(X_train),np.array(y_train), cost_mat_train_i)\n",
        "# y_pred_proba_i= clf_cs_dt.predict_proba(np.array(X_train))\n",
        "# y_pred_probs_i = [y_pred_proba_i[j][1] for j in range(len(y_pred_proba_i))]\n",
        "# d_t_i = get_dynamic_threshold(y_pred_probs_i,100,0.5)"
      ]
    },
    {
      "cell_type": "code",
      "execution_count": 10,
      "id": "b454e942",
      "metadata": {},
      "outputs": [
        {
          "name": "stdout",
          "output_type": "stream",
          "text": [
            "loaded ada_csl_wrc.utils\n"
          ]
        }
      ],
      "source": [
        "from ada_csl_wrc.models import CostSensitiveDecisionTreeClassifier"
      ]
    },
    {
      "cell_type": "code",
      "execution_count": 12,
      "id": "4ecda30f",
      "metadata": {
        "id": "4ecda30f",
        "outputId": "b24bc1a5-3118-45cc-e936-fd22447c058b"
      },
      "outputs": [
        {
          "name": "stdout",
          "output_type": "stream",
          "text": [
            "******** 24 ********\n",
            "1\n",
            "c 50\n",
            "break\n",
            "c 60\n",
            "break\n",
            "2\n",
            "c 50\n",
            "break\n",
            "c 60\n",
            "break\n",
            "3\n",
            "c 50\n",
            "break\n",
            "c 60\n",
            "break\n"
          ]
        }
      ],
      "source": [
        "#apply the experimnt on differnt slices of the dataset\n",
        "clf_cs_dt = CostSensitiveDecisionTreeClassifier(min_samples_leaf = best_combination[0], max_depth = best_combination[1],\n",
        "                                              pruned = best_combination[2], min_gain = best_combination[3])\n",
        "\n",
        "# for smoozing the graph - repeat the experiment with 10 different CV\n",
        "random_state_list = [24]#, 6, 18, 32, 76, 5, 40, 12, 31, 9]\n",
        "constraint = [50, 60]\n",
        "result_dict_all, result_dict_075, result_dict_05 = {}, {}, {}\n",
        "for random_state in random_state_list:\n",
        "    print('********', random_state, '********')\n",
        "\n",
        "    fold_dict_all = experiment(clf_cs_dt, clf_dt, random_state, X, y, cfp, cfn, constraint)\n",
        "    result_dict_all[random_state] = fold_dict_all\n",
        "\n",
        "#     fold_dict_075 = experiment(clf, clf_dt, random_state, X_17, y, r, cfp, cfn, constraint)\n",
        "#     result_dict_075[random_state] = fold_dict_075\n",
        "\n",
        "#     fold_dict_05 = experiment(clf, clf_dt, random_state, X_11, y, r, cfp, cfn, constraint)\n",
        "#     result_dict_05[random_state] = fold_dict_05\n",
        "\n"
      ]
    },
    {
      "cell_type": "code",
      "execution_count": 29,
      "id": "82c6723d",
      "metadata": {},
      "outputs": [
        {
          "data": {
            "text/plain": [
              "array([[0.93158388, 0.06841612],\n",
              "       [0.93158388, 0.06841612],\n",
              "       [0.93158388, 0.06841612],\n",
              "       ...,\n",
              "       [0.93158388, 0.06841612],\n",
              "       [0.76888889, 0.23111111],\n",
              "       [0.93158388, 0.06841612]])"
            ]
          },
          "execution_count": 29,
          "metadata": {},
          "output_type": "execute_result"
        }
      ],
      "source": [
        "clf_dt.predict_proba(X)"
      ]
    },
    {
      "cell_type": "code",
      "execution_count": 26,
      "id": "1465d717",
      "metadata": {},
      "outputs": [
        {
          "data": {
            "text/plain": [
              "{'cost': 757.0,\n",
              " 'cm':      0   1\n",
              " 0  628   7\n",
              " 1   75  36,\n",
              " 'accuracy': 0.8900804289544236,\n",
              " 'precision': 0.8372093023255814,\n",
              " 'f_score': 0.4675324675324676,\n",
              " 'time': 0.005468699964694679,\n",
              " 'n_positive': 43}"
            ]
          },
          "execution_count": 26,
          "metadata": {},
          "output_type": "execute_result"
        }
      ],
      "source": [
        "result_dict_all[24][3][\"dt\"][0]"
      ]
    },
    {
      "cell_type": "code",
      "execution_count": 14,
      "id": "6f4c9ef2",
      "metadata": {
        "id": "6f4c9ef2"
      },
      "outputs": [],
      "source": [
        "# #save data\n",
        "# with open('result_dict_05.pickle', 'wb') as handle:\n",
        "#     pickle.dump(result_dict_05, handle, protocol=pickle.HIGHEST_PROTOCOL)\n",
        "\n",
        "# with open('result_dict_075.pickle', 'wb') as handle:\n",
        "#     pickle.dump(result_dict_075, handle, protocol=pickle.HIGHEST_PROTOCOL)\n",
        "\n",
        "# with open('result_dict_all.pickle', 'wb') as handle:\n",
        "#     pickle.dump(result_dict_all, handle, protocol=pickle.HIGHEST_PROTOCOL)"
      ]
    },
    {
      "cell_type": "code",
      "execution_count": null,
      "id": "74dd72ae",
      "metadata": {
        "id": "74dd72ae"
      },
      "outputs": [],
      "source": [
        "# #load data\n",
        "# #random_state_list = [24, 6, 18, 32, 76, 5, 40, 12, 31, 9]\n",
        "\n",
        "# with open('marketing_result_dict_11_v2.pickle', 'rb') as handle:\n",
        "#     marketing_result_dict_11 = pickle.load(handle)\n",
        "\n",
        "# with open('marketing_result_dict_17_v2.pickle', 'rb') as handle:\n",
        "#     marketing_result_dict_17 = pickle.load(handle)\n",
        "\n",
        "# with open('marketing_result_dict_all_v2.pickle', 'rb') as handle:\n",
        "#     marketing_result_dict_all = pickle.load(handle)"
      ]
    },
    {
      "cell_type": "code",
      "execution_count": null,
      "id": "2316dc8f",
      "metadata": {
        "id": "2316dc8f",
        "outputId": "45d03fe3-db90-4ea3-d2a8-39bd8773a427",
        "scrolled": true
      },
      "outputs": [
        {
          "data": {
            "text/html": [
              "<div>\n",
              "<style scoped>\n",
              "    .dataframe tbody tr th:only-of-type {\n",
              "        vertical-align: middle;\n",
              "    }\n",
              "\n",
              "    .dataframe tbody tr th {\n",
              "        vertical-align: top;\n",
              "    }\n",
              "\n",
              "    .dataframe thead th {\n",
              "        text-align: right;\n",
              "    }\n",
              "</style>\n",
              "<table border=\"1\" class=\"dataframe\">\n",
              "  <thead>\n",
              "    <tr style=\"text-align: right;\">\n",
              "      <th></th>\n",
              "      <th>0</th>\n",
              "      <th>50</th>\n",
              "      <th>60</th>\n",
              "    </tr>\n",
              "  </thead>\n",
              "  <tbody>\n",
              "    <tr>\n",
              "      <th>cost</th>\n",
              "      <td>473.0</td>\n",
              "      <td>1071.0</td>\n",
              "      <td>1059.0</td>\n",
              "    </tr>\n",
              "    <tr>\n",
              "      <th>cm</th>\n",
              "      <td>0    1\n",
              "0  222  413\n",
              "1    6  106</td>\n",
              "      <td>0   1\n",
              "0  594  41\n",
              "1  103   9</td>\n",
              "      <td>0   1\n",
              "0  586  49\n",
              "1  101  11</td>\n",
              "    </tr>\n",
              "    <tr>\n",
              "      <th>accuracy</th>\n",
              "      <td>0.43909</td>\n",
              "      <td>0.807229</td>\n",
              "      <td>0.799197</td>\n",
              "    </tr>\n",
              "    <tr>\n",
              "      <th>precision</th>\n",
              "      <td>0.204239</td>\n",
              "      <td>0.18</td>\n",
              "      <td>0.183333</td>\n",
              "    </tr>\n",
              "    <tr>\n",
              "      <th>f_score</th>\n",
              "      <td>0.335975</td>\n",
              "      <td>0.111111</td>\n",
              "      <td>0.127907</td>\n",
              "    </tr>\n",
              "    <tr>\n",
              "      <th>time</th>\n",
              "      <td>3.160641</td>\n",
              "      <td>3.16104</td>\n",
              "      <td>3.161013</td>\n",
              "    </tr>\n",
              "    <tr>\n",
              "      <th>n_positive</th>\n",
              "      <td>519.0</td>\n",
              "      <td>NaN</td>\n",
              "      <td>NaN</td>\n",
              "    </tr>\n",
              "    <tr>\n",
              "      <th>probs</th>\n",
              "      <td>NaN</td>\n",
              "      <td>[0.0036231884057971015, 0.0036231884057971015,...</td>\n",
              "      <td>[0.0036231884057971015, 0.0036231884057971015,...</td>\n",
              "    </tr>\n",
              "  </tbody>\n",
              "</table>\n",
              "</div>"
            ],
            "text/plain": [
              "                                             0   \\\n",
              "cost                                      473.0   \n",
              "cm               0    1\n",
              "0  222  413\n",
              "1    6  106   \n",
              "accuracy                                0.43909   \n",
              "precision                              0.204239   \n",
              "f_score                                0.335975   \n",
              "time                                   3.160641   \n",
              "n_positive                                519.0   \n",
              "probs                                       NaN   \n",
              "\n",
              "                                                           50  \\\n",
              "cost                                                   1071.0   \n",
              "cm                                0   1\n",
              "0  594  41\n",
              "1  103   9   \n",
              "accuracy                                             0.807229   \n",
              "precision                                                0.18   \n",
              "f_score                                              0.111111   \n",
              "time                                                  3.16104   \n",
              "n_positive                                                NaN   \n",
              "probs       [0.0036231884057971015, 0.0036231884057971015,...   \n",
              "\n",
              "                                                           60  \n",
              "cost                                                   1059.0  \n",
              "cm                                0   1\n",
              "0  586  49\n",
              "1  101  11  \n",
              "accuracy                                             0.799197  \n",
              "precision                                            0.183333  \n",
              "f_score                                              0.127907  \n",
              "time                                                 3.161013  \n",
              "n_positive                                                NaN  \n",
              "probs       [0.0036231884057971015, 0.0036231884057971015,...  "
            ]
          },
          "execution_count": 18,
          "metadata": {},
          "output_type": "execute_result"
        }
      ],
      "source": [
        "pd.DataFrame(result_dict_all[24][1]['cs'])"
      ]
    },
    {
      "cell_type": "code",
      "execution_count": null,
      "id": "bad51c5f",
      "metadata": {
        "id": "bad51c5f"
      },
      "outputs": [],
      "source": [
        "cs_measure, dt_measure, one_before_measure, itr_list = get_measure_list(result_dict_all, 'cost', random_state_list, constraint)"
      ]
    },
    {
      "cell_type": "code",
      "execution_count": null,
      "id": "b7df6027",
      "metadata": {
        "id": "b7df6027",
        "outputId": "ea6696ac-b5c8-4b35-b213-98f2f2e7337b",
        "scrolled": false
      },
      "outputs": [
        {
          "data": {
            "image/png": "[encoded data removed]",
            "text/plain": [
              "<Figure size 640x480 with 1 Axes>"
            ]
          },
          "metadata": {},
          "output_type": "display_data"
        }
      ],
      "source": [
        "plt.plot(constraint, get_mean_list(one_before_measure), label = 'AdaCSL-WRC')\n",
        "plt.plot(constraint, get_mean_list(cs_measure), label = 'CS-DT')\n",
        "plt.plot(constraint, get_mean_list(dt_measure), label = 'DT')\n",
        "plt.ylabel('Cost')\n",
        "plt.xlabel('Constraint')\n",
        "plt.legend()\n",
        "plt.show()"
      ]
    },
    {
      "cell_type": "code",
      "execution_count": null,
      "id": "9b90e89f",
      "metadata": {
        "id": "9b90e89f",
        "outputId": "b701e239-6aa8-4b99-ced2-d75ac1e32a98"
      },
      "outputs": [
        {
          "name": "stdout",
          "output_type": "stream",
          "text": [
            "adjustText==0.7.3\n",
            "alabaster @ file:///home/ktietz/src/ci/alabaster_1611921544520/work\n",
            "alembic==1.11.1\n",
            "anaconda-client==1.7.2\n",
            "anaconda-navigator==2.4.2\n",
            "anaconda-project==0.8.3\n",
            "appdirs==1.4.4\n",
            "apyori==1.1.2\n",
            "argh==0.26.2\n",
            "argon2-cffi @ file:///opt/conda/conda-bld/argon2-cffi_1645000214183/work\n",
            "argon2-cffi-bindings @ file:///C:/ci/argon2-cffi-bindings_1644569878360/work\n",
            "asn1crypto @ file:///C:/ci/asn1crypto_1652344143274/work\n",
            "astroid @ file:///C:/b/abs_d4lg3_taxn/croot/astroid_1676904351456/work\n",
            "astropy @ file:///C:/ci/astropy_1657719688889/work\n",
            "asttokens @ file:///opt/conda/conda-bld/asttokens_1646925590279/work\n",
            "async-generator @ file:///home/ktietz/src/ci/async_generator_1611927993394/work\n",
            "atomicwrites==1.4.0\n",
            "attrs @ file:///C:/b/abs_09s3y775ra/croot/attrs_1668696195628/work\n",
            "autopep8 @ file:///tmp/build/80754af9/autopep8_1596578164842/work\n",
            "Babel @ file:///C:/b/abs_a2shv_3tqi/croot/babel_1671782804377/work\n",
            "backcall @ file:///home/ktietz/src/ci/backcall_1611930011877/work\n",
            "backports.functools-lru-cache @ file:///tmp/build/80754af9/backports.functools_lru_cache_1618170165463/work\n",
            "backports.shutil-get-terminal-size @ file:///tmp/build/80754af9/backports.shutil_get_terminal_size_1608222128777/work\n",
            "backports.tempfile @ file:///home/linux1/recipes/ci/backports.tempfile_1610991236607/work\n",
            "backports.weakref==1.0.post1\n",
            "bcrypt @ file:///C:/Windows/Temp/abs_36kl66t_aw/croots/recipe/bcrypt_1659554334050/work\n",
            "beautifulsoup4 @ file:///C:/b/abs_0agyz1wsr4/croot/beautifulsoup4-split_1681493048687/work\n",
            "bioinfokit==2.0.8\n",
            "bitarray @ file:///C:/ci/bitarray_1657729621503/work\n",
            "bkcharts==0.2\n",
            "bleach @ file:///opt/conda/conda-bld/bleach_1641577558959/work\n",
            "bokeh @ file:///C:/ci/bokeh_1603297934731/work\n",
            "boto==2.49.0\n",
            "Bottleneck @ file:///C:/Windows/Temp/abs_3198ca53-903d-42fd-87b4-03e6d03a8381yfwsuve8/croots/recipe/bottleneck_1657175565403/work\n",
            "brotlipy==0.7.0\n",
            "certifi==2023.7.22\n",
            "cffi @ file:///C:/b/abs_49n3v2hyhr/croot/cffi_1670423218144/work\n",
            "chardet @ file:///C:/ci/chardet_1607690654534/work\n",
            "charset-normalizer @ file:///tmp/build/80754af9/charset-normalizer_1630003229654/work\n",
            "click @ file:///C:/ci/click_1646056799533/work\n",
            "cloudpickle @ file:///C:/b/abs_3796yxesic/croot/cloudpickle_1683040098851/work\n",
            "clyent==1.2.2\n",
            "cmaes==0.9.1\n",
            "colorama @ file:///C:/b/abs_a9ozq0l032/croot/colorama_1672387194846/work\n",
            "colorlog==6.7.0\n",
            "comtypes @ file:///C:/b/abs_1coomkk_86/croot/comtypes_1678829787230/work\n",
            "conda==4.14.0\n",
            "conda-build==3.20.5\n",
            "conda-content-trust @ file:///tmp/build/80754af9/conda-content-trust_1617045594566/work\n",
            "conda-package-handling @ file:///C:/b/abs_b9wp3lr1gn/croot/conda-package-handling_1691008700066/work\n",
            "conda-repo-cli @ file:///tmp/build/80754af9/conda-repo-cli_1611347565866/work\n",
            "conda-token @ file:///tmp/build/80754af9/conda-token_1620076980546/work\n",
            "conda-verify==3.4.2\n",
            "conda_package_streaming @ file:///C:/b/abs_6c28n38aaj/croot/conda-package-streaming_1690988019210/work\n",
            "contextlib2 @ file:///C:/b/abs_0esl3sdprx/croots/recipe/contextlib2_1663665200516/work\n",
            "costcla==0.6\n",
            "cryptography @ file:///C:/b/abs_8ecplyc3n2/croot/cryptography_1677533105000/work\n",
            "cycler @ file:///tmp/build/80754af9/cycler_1637851556182/work\n",
            "Cython @ file:///C:/b/abs_5cpuwbndm8/croot/cython_1690297311020/work\n",
            "cytoolz @ file:///C:/b/abs_61m9vzb4qh/croot/cytoolz_1667465938275/work\n",
            "dask @ file:///tmp/build/80754af9/dask-core_1602083700509/work\n",
            "decorator @ file:///opt/conda/conda-bld/decorator_1643638310831/work\n",
            "defusedxml @ file:///tmp/build/80754af9/defusedxml_1615228127516/work\n",
            "diff-match-patch @ file:///Users/ktietz/demo/mc3/conda-bld/diff-match-patch_1630511840874/work\n",
            "dill @ file:///C:/b/abs_084unuus3z/croot/dill_1692271268687/work\n",
            "distributed @ file:///C:/ci/distributed_1605066635297/work\n",
            "docutils @ file:///C:/Windows/TEMP/abs_24e5e278-4d1c-47eb-97b9-f761d871f482dy2vg450/croots/recipe/docutils_1657175444608/work\n",
            "entrypoints @ file:///C:/ci/entrypoints_1649926621247/work\n",
            "et-xmlfile==1.1.0\n",
            "exceptiongroup @ file:///C:/b/abs_25wqfvkf25/croot/exceptiongroup_1668714345637/work\n",
            "executing @ file:///opt/conda/conda-bld/executing_1646925071911/work\n",
            "fastcache==1.1.0\n",
            "fastjsonschema @ file:///C:/Users/BUILDE~1/AppData/Local/Temp/abs_ebruxzvd08/croots/recipe/python-fastjsonschema_1661376484940/work\n",
            "filelock @ file:///C:/b/abs_c7yrhs9uz2/croot/filelock_1672387617533/work\n",
            "flake8 @ file:///tmp/build/80754af9/flake8_1601911421857/work\n",
            "Flask @ file:///C:/b/abs_ef16l83sif/croot/flask_1671217367534/work\n",
            "fsspec @ file:///C:/b/abs_f9arcwflp9/croot/fsspec_1682526006955/work\n",
            "future @ file:///C:/b/abs_3dcibf18zi/croot/future_1677599891380/work\n",
            "gevent @ file:///C:/b/abs_f33r3ynpli/croot/gevent_1670621213828/work\n",
            "glob2 @ file:///home/linux1/recipes/ci/glob2_1610991677669/work\n",
            "gmpy2 @ file:///C:/ci/gmpy2_1645456279018/work\n",
            "graphviz==0.16\n",
            "greenlet @ file:///C:/b/abs_47lk_w2ajq/croot/greenlet_1670513248400/work\n",
            "gym==0.21.0\n",
            "h5py @ file:///C:/b/abs_17fav01gwy/croot/h5py_1691589733413/work\n",
            "HeapDict @ file:///Users/ktietz/demo/mc3/conda-bld/heapdict_1630598515714/work\n",
            "html5lib @ file:///Users/ktietz/demo/mc3/conda-bld/html5lib_1629144453894/work\n",
            "idna @ file:///C:/b/abs_bdhbebrioa/croot/idna_1666125572046/work\n",
            "imagecodecs @ file:///C:/b/abs_f0cr12h73p/croot/imagecodecs_1677576746499/work\n",
            "imageio @ file:///C:/b/abs_27kq2gy1us/croot/imageio_1677879918708/work\n",
            "imagesize @ file:///C:/Windows/TEMP/abs_3cecd249-3fc4-4bfc-b80b-bb227b0d701en12vqzot/croots/recipe/imagesize_1657179501304/work\n",
            "imbalanced-learn==0.8.0\n",
            "importlib-metadata @ file:///C:/b/abs_20ndzb2j6v/croot/importlib-metadata_1678997085534/work\n",
            "importlib-resources==5.12.0\n",
            "iniconfig @ file:///home/linux1/recipes/ci/iniconfig_1610983019677/work\n",
            "intervaltree @ file:///Users/ktietz/demo/mc3/conda-bld/intervaltree_1630511889664/work\n",
            "ipykernel @ file:///C:/ci/ipykernel_1596190155316/work/dist/ipykernel-5.3.4-py3-none-any.whl\n",
            "ipython @ file:///C:/b/abs_254uk73z5b/croot/ipython_1691532131313/work\n",
            "ipython-genutils @ file:///tmp/build/80754af9/ipython_genutils_1606773439826/work\n",
            "ipywidgets @ file:///tmp/build/80754af9/ipywidgets_1601490159889/work\n",
            "isort @ file:///tmp/build/80754af9/isort_1628603791788/work\n",
            "itsdangerous @ file:///tmp/build/80754af9/itsdangerous_1621432558163/work\n",
            "jaraco.classes @ file:///tmp/build/80754af9/jaraco.classes_1620983179379/work\n",
            "jdcal @ file:///Users/ktietz/demo/mc3/conda-bld/jdcal_1630584345063/work\n",
            "jedi @ file:///C:/ci/jedi_1592833825077/work\n",
            "Jinja2 @ file:///C:/b/abs_7cdis66kl9/croot/jinja2_1666908141852/work\n",
            "joblib @ file:///C:/b/abs_1anqjntpan/croot/joblib_1685113317150/work\n",
            "jovian==0.2.38\n",
            "json5 @ file:///tmp/build/80754af9/json5_1624432770122/work\n",
            "jsonschema @ file:///C:/b/abs_6ccs97j_l8/croot/jsonschema_1676558690963/work\n",
            "jupyter==1.0.0\n",
            "jupyter-client @ file:///tmp/build/80754af9/jupyter_client_1601311786391/work\n",
            "jupyter-console @ file:///tmp/build/80754af9/jupyter_console_1598884538475/work\n",
            "jupyter_core @ file:///C:/b/abs_9d0ttho3bs/croot/jupyter_core_1679906581955/work\n",
            "jupyterlab==2.2.6\n",
            "jupyterlab-pygments @ file:///tmp/build/80754af9/jupyterlab_pygments_1601490720602/work\n",
            "jupyterlab-server @ file:///tmp/build/80754af9/jupyterlab_server_1594164409481/work\n",
            "keyring @ file:///C:/b/abs_dbjc7g0dh2/croot/keyring_1678999228878/work\n",
            "kiwisolver @ file:///C:/b/abs_88mdhvtahm/croot/kiwisolver_1672387921783/work\n",
            "lazy-object-proxy @ file:///C:/ci/lazy-object-proxy_1616529307648/work\n",
            "libarchive-c @ file:///tmp/build/80754af9/python-libarchive-c_1617780486945/work\n",
            "llvmlite @ file:///C:/b/abs_a8i9keuf6p/croot/llvmlite_1683555140340/work\n",
            "lmdb @ file:///C:/b/abs_556ronuvb2/croot/python-lmdb_1682522366268/work\n",
            "locket @ file:///C:/ci/locket_1652904093019/work\n",
            "lxml @ file:///C:/b/abs_c2bg6ck92l/croot/lxml_1679646459966/work\n",
            "Mako==1.2.4\n",
            "MarkupSafe @ file:///C:/ci/markupsafe_1654489871526/work\n",
            "matplotlib @ file:///C:/ci/matplotlib-base_1603355780617/work\n",
            "matplotlib-inline @ file:///C:/ci/matplotlib-inline_1661934035815/work\n",
            "matplotlib-venn==0.11.6\n",
            "mccabe==0.6.1\n",
            "menuinst==1.4.16\n",
            "mistune @ file:///home/conda/feedstock_root/build_artifacts/mistune_1673904152039/work\n",
            "mkl-fft==1.3.6\n",
            "mkl-random @ file:///C:/Users/dev-admin/mkl/mkl_random_1682977971003/work\n",
            "mkl-service==2.4.0\n",
            "mlxtend==0.18.0\n",
            "mock @ file:///tmp/build/80754af9/mock_1607622725907/work\n",
            "more-itertools @ file:///tmp/build/80754af9/more-itertools_1637733554872/work\n",
            "mpmath @ file:///C:/b/abs_7833jrbiox/croot/mpmath_1690848321154/work\n",
            "msgpack @ file:///C:/ci/msgpack-python_1652329319342/work\n",
            "multipledispatch==0.6.0\n",
            "navigator-updater==0.2.1\n",
            "nbclient @ file:///tmp/build/80754af9/nbclient_1602783176460/work\n",
            "nbconvert @ file:///D:/bld/nbconvert_1648465403281/work\n",
            "nbformat @ file:///C:/b/abs_85_3g7dkt4/croot/nbformat_1670352343720/work\n",
            "nest-asyncio @ file:///C:/b/abs_3a_4jsjlqu/croot/nest-asyncio_1672387322800/work\n",
            "networkx @ file:///C:/b/abs_e6gi1go5op/croot/networkx_1690562046966/work\n",
            "nltk @ file:///C:/b/abs_a638z6l1z0/croot/nltk_1688114186909/work\n",
            "nose @ file:///opt/conda/conda-bld/nose_1642704612149/work\n",
            "notebook @ file:///C:/ci/notebook_1601501643625/work\n",
            "numba @ file:///C:/b/abs_b3bxhjeez4/croot/numba_1684245497898/work\n",
            "numexpr @ file:///C:/b/abs_afm0oewmmt/croot/numexpr_1683221839116/work\n",
            "numpy @ file:///C:/Users/dev-admin/mkl/numpy_and_numpy_base_1682982345978/work\n",
            "numpydoc @ file:///C:/b/abs_cfdd4zxbga/croot/numpydoc_1668085912100/work\n",
            "olefile @ file:///Users/ktietz/demo/mc3/conda-bld/olefile_1629805411829/work\n",
            "openpyxl==3.0.10\n",
            "optuna==3.2.0\n",
            "packaging @ file:///C:/b/abs_ed_kb9w6g4/croot/packaging_1678965418855/work\n",
            "pandas @ file:///C:/b/abs_b9kefbuby2/croot/pandas_1677835593760/work\n",
            "pandocfilters @ file:///opt/conda/conda-bld/pandocfilters_1643405455980/work\n",
            "paramiko @ file:///opt/conda/conda-bld/paramiko_1640109032755/work\n",
            "parso==0.7.0\n",
            "partd @ file:///opt/conda/conda-bld/partd_1647245470509/work\n",
            "path @ file:///opt/conda/conda-bld/path_1641578212155/work\n",
            "pathlib2 @ file:///C:/ci/pathlib2_1625585790401/work\n",
            "pathtools @ file:///Users/ktietz/demo/mc3/conda-bld/pathtools_1629713893697/work\n",
            "patsy==0.5.3\n",
            "pep8==1.7.1\n",
            "pexpect @ file:///tmp/build/80754af9/pexpect_1605563209008/work\n",
            "pickleshare @ file:///tmp/build/80754af9/pickleshare_1606932040724/work\n",
            "Pillow==9.4.0\n",
            "pkginfo @ file:///C:/b/abs_d18srtr68x/croot/pkginfo_1679431192239/work\n",
            "pkgutil_resolve_name @ file:///C:/Users/BUILDE~1/AppData/Local/Temp/abs_81wm45v3kb/croots/recipe/pkgutil-resolve-name_1661463352381/work\n",
            "platformdirs @ file:///C:/b/abs_b6z_yqw_ii/croot/platformdirs_1692205479426/work\n",
            "plotly==4.14.3\n",
            "pluggy @ file:///C:/ci/pluggy_1648042776090/work\n",
            "ply==3.11\n",
            "pooch @ file:///tmp/build/80754af9/pooch_1623324770023/work\n",
            "prometheus-client @ file:///C:/Windows/TEMP/abs_ab9nx8qb08/croots/recipe/prometheus_client_1659455104602/work\n",
            "prompt-toolkit @ file:///C:/b/abs_6coz5_9f2s/croot/prompt-toolkit_1672387908312/work\n",
            "psutil @ file:///C:/Windows/Temp/abs_b2c2fd7f-9fd5-4756-95ea-8aed74d0039flsd9qufz/croots/recipe/psutil_1656431277748/work\n",
            "ptyprocess @ file:///tmp/build/80754af9/ptyprocess_1609355006118/work/dist/ptyprocess-0.7.0-py2.py3-none-any.whl\n",
            "pure-eval @ file:///opt/conda/conda-bld/pure_eval_1646925070566/work\n",
            "py @ file:///opt/conda/conda-bld/py_1644396412707/work\n",
            "py-cpuinfo @ file:///Users/ktietz/demo/mc3/conda-bld/py-cpuinfo_1629480366017/work\n",
            "pycodestyle @ file:///home/ktietz/src/ci_mi/pycodestyle_1612807597675/work\n",
            "pycosat @ file:///C:/b/abs_4b1rrw8pn9/croot/pycosat_1666807711599/work\n",
            "pycparser @ file:///tmp/build/80754af9/pycparser_1636541352034/work\n",
            "pycurl==7.45.2\n",
            "pydocstyle @ file:///C:/b/abs_6dz687_5i3/croot/pydocstyle_1675221688656/work\n",
            "pydot==1.4.2\n",
            "pydotplus==2.0.2\n",
            "pyea==0.2\n",
            "pyerfa @ file:///C:/ci/pyerfa_1621561004681/work\n",
            "pyflakes @ file:///home/ktietz/src/ci_ipy2/pyflakes_1612551159640/work\n",
            "Pygments @ file:///C:/b/abs_fay9dpq4n_/croot/pygments_1684279990574/work\n",
            "PyJWT @ file:///C:/ci/pyjwt_1657529430378/work\n",
            "pylint @ file:///C:/b/abs_83sq99jc8i/croot/pylint_1676919922167/work\n",
            "PyNaCl @ file:///C:/Windows/Temp/abs_d5c3ajcm87/croots/recipe/pynacl_1659620667490/work\n",
            "pyodbc @ file:///C:/Windows/Temp/abs_61e3jz3u05/croots/recipe/pyodbc_1659513801402/work\n",
            "pyOpenSSL @ file:///C:/b/abs_08f38zyck4/croot/pyopenssl_1690225407403/work\n",
            "pyparsing @ file:///C:/Users/BUILDE~1/AppData/Local/Temp/abs_7f_7lba6rl/croots/recipe/pyparsing_1661452540662/work\n",
            "pyreadline==2.1\n",
            "pyrsistent @ file:///C:/ci/pyrsistent_1636111468851/work\n",
            "PySocks @ file:///C:/ci/pysocks_1605287845585/work\n",
            "pytest @ file:///C:/b/abs_48heoo_k8y/croot/pytest_1690475385915/work\n",
            "python-dateutil @ file:///tmp/build/80754af9/python-dateutil_1626374649649/work\n",
            "python-jsonrpc-server @ file:///tmp/build/80754af9/python-jsonrpc-server_1600278539111/work\n",
            "python-language-server @ file:///tmp/build/80754af9/python-language-server_1600454544709/work\n",
            "pytoolconfig @ file:///C:/b/abs_18sf9z_iwl/croot/pytoolconfig_1676315065270/work\n",
            "pytz @ file:///C:/b/abs_22fofvpn1x/croot/pytz_1671698059864/work\n",
            "PyWavelets @ file:///C:/b/abs_a8r4b1511a/croot/pywavelets_1670425185881/work\n",
            "pywin32==305.1\n",
            "pywin32-ctypes==0.2.0\n",
            "pywinpty @ file:///C:/b/abs_73vshmevwq/croot/pywinpty_1677609966356/work/target/wheels/pywinpty-2.0.10-cp38-none-win_amd64.whl\n",
            "PyYAML==6.0\n",
            "pyzmq @ file:///C:/b/abs_655zk4a3s8/croot/pyzmq_1686601465034/work\n",
            "QDarkStyle @ file:///tmp/build/80754af9/qdarkstyle_1617386714626/work\n",
            "QtAwesome @ file:///C:/b/abs_c5evilj98g/croot/qtawesome_1674008690220/work\n",
            "qtconsole @ file:///tmp/build/80754af9/qtconsole_1600870028330/work\n",
            "QtPy @ file:///C:/ci/qtpy_1662015036641/work\n"
          ]
        },
        {
          "name": "stdout",
          "output_type": "stream",
          "text": [
            "regex @ file:///C:/ci/regex_1658258240596/work\n",
            "requests @ file:///C:/b/abs_316c2inijk/croot/requests_1690400295842/work\n",
            "retrying==1.3.3\n",
            "rope @ file:///C:/b/abs_55g_tm_6ff/croot/rope_1676675029164/work\n",
            "Rtree @ file:///C:/b/abs_e116ltblik/croot/rtree_1675157871717/work\n",
            "ruamel_yaml==0.15.87\n",
            "scikit-image==0.17.2\n",
            "scikit-learn @ file:///C:/b/abs_55olq_4gzc/croot/scikit-learn_1690978955123/work\n",
            "scipy==1.10.1\n",
            "seaborn @ file:///tmp/build/80754af9/seaborn_1600553570093/work\n",
            "Send2Trash @ file:///tmp/build/80754af9/send2trash_1632406701022/work\n",
            "simplegeneric==0.8.1\n",
            "singledispatch @ file:///tmp/build/80754af9/singledispatch_1629321204894/work\n",
            "sip==4.19.13\n",
            "six @ file:///tmp/build/80754af9/six_1644875935023/work\n",
            "snowballstemmer @ file:///tmp/build/80754af9/snowballstemmer_1637937080595/work\n",
            "sortedcollections @ file:///tmp/build/80754af9/sortedcollections_1611172717284/work\n",
            "sortedcontainers @ file:///tmp/build/80754af9/sortedcontainers_1623949099177/work\n",
            "soupsieve @ file:///C:/b/abs_a989exj3q6/croot/soupsieve_1680518492466/work\n",
            "Sphinx @ file:///C:/ci/sphinx_1657598970590/work\n",
            "sphinxcontrib-applehelp @ file:///home/ktietz/src/ci/sphinxcontrib-applehelp_1611920841464/work\n",
            "sphinxcontrib-devhelp @ file:///home/ktietz/src/ci/sphinxcontrib-devhelp_1611920923094/work\n",
            "sphinxcontrib-htmlhelp @ file:///tmp/build/80754af9/sphinxcontrib-htmlhelp_1623945626792/work\n",
            "sphinxcontrib-jsmath @ file:///home/ktietz/src/ci/sphinxcontrib-jsmath_1611920942228/work\n",
            "sphinxcontrib-qthelp @ file:///home/ktietz/src/ci/sphinxcontrib-qthelp_1611921055322/work\n",
            "sphinxcontrib-serializinghtml @ file:///tmp/build/80754af9/sphinxcontrib-serializinghtml_1624451540180/work\n",
            "sphinxcontrib-websupport @ file:///tmp/build/80754af9/sphinxcontrib-websupport_1597081412696/work\n",
            "spyder @ file:///C:/ci/spyder_1599054115447/work\n",
            "spyder-kernels @ file:///C:/ci/spyder-kernels_1599051709837/work\n",
            "SQLAlchemy @ file:///C:/Windows/Temp/abs_f8661157-660b-49bb-a790-69ab9f3b8f7c8a8s2psb/croots/recipe/sqlalchemy_1657867864564/work\n",
            "stack-data @ file:///opt/conda/conda-bld/stack_data_1646927590127/work\n",
            "statsmodels==0.12.0\n",
            "sympy @ file:///C:/b/abs_95fbf1z7n6/croot/sympy_1668202411612/work\n",
            "tables @ file:///C:/b/abs_0626auep9v/croot/pytables_1691623892917/work\n",
            "tabulate==0.8.9\n",
            "tblib @ file:///Users/ktietz/demo/mc3/conda-bld/tblib_1629402031467/work\n",
            "terminado @ file:///C:/b/abs_25nakickad/croot/terminado_1671751845491/work\n",
            "testpath @ file:///C:/Windows/TEMP/abs_23c7fa33-cbb9-46dc-b7c5-590c38e2de3d4bmbngal/croots/recipe/testpath_1655908553202/work\n",
            "textwrap3==0.9.2\n",
            "threadpoolctl @ file:///Users/ktietz/demo/mc3/conda-bld/threadpoolctl_1629802263681/work\n",
            "tifffile @ file:///tmp/build/80754af9/tifffile_1627275862826/work\n",
            "toml @ file:///tmp/build/80754af9/toml_1616166611790/work\n",
            "tomli @ file:///C:/Windows/TEMP/abs_ac109f85-a7b3-4b4d-bcfd-52622eceddf0hy332ojo/croots/recipe/tomli_1657175513137/work\n",
            "tomlkit @ file:///C:/Windows/TEMP/abs_3296qo9v6b/croots/recipe/tomlkit_1658946894808/work\n",
            "toolz @ file:///C:/b/abs_cfvk6rc40d/croot/toolz_1667464080130/work\n",
            "torch==2.0.1\n",
            "tornado @ file:///C:/b/abs_61jhmrrua1/croot/tornado_1690848767317/work\n",
            "tqdm @ file:///C:/b/abs_f76j9hg7pv/croot/tqdm_1679561871187/work\n",
            "traitlets @ file:///C:/b/abs_e5m_xjjl94/croot/traitlets_1671143896266/work\n",
            "typing_extensions==4.6.3\n",
            "tzdata==2023.3\n",
            "ujson @ file:///C:/ci/ujson_1657525943778/work\n",
            "unicodecsv==0.14.1\n",
            "urllib3 @ file:///C:/b/abs_889_loyqv4/croot/urllib3_1686163174463/work\n",
            "uuid==1.30\n",
            "watchdog @ file:///C:/ci/watchdog_1638349261759/work\n",
            "wcwidth @ file:///Users/ktietz/demo/mc3/conda-bld/wcwidth_1629357192024/work\n",
            "webencodings==0.5.1\n",
            "Werkzeug @ file:///C:/b/abs_8578rs2ra_/croot/werkzeug_1679489759009/work\n",
            "widgetsnbextension==3.5.1\n",
            "win-inet-pton @ file:///C:/ci/win_inet_pton_1605306167264/work\n",
            "win-unicode-console==0.5\n",
            "wincertstore==0.2\n",
            "wrapt @ file:///C:/Windows/Temp/abs_7c3dd407-1390-477a-b542-fd15df6a24085_diwiza/croots/recipe/wrapt_1657814452175/work\n",
            "xgboost==1.6.2\n",
            "xlrd @ file:///croot/xlrd_1685030938141/work\n",
            "XlsxWriter @ file:///C:/b/abs_3copvk6ae8/croot/xlsxwriter_1685021146118/work\n",
            "xlwings @ file:///C:/b/abs_1ejhh6s00l/croot/xlwings_1677024180629/work\n",
            "xlwt==1.3.0\n",
            "xmltodict==0.12.0\n",
            "yapf @ file:///tmp/build/80754af9/yapf_1615749224965/work\n",
            "yellowbrick==1.3.post1\n",
            "zict @ file:///C:/b/abs_fc7elavmem/croot/zict_1682698759288/work\n",
            "zipp @ file:///C:/b/abs_b9jfdr908q/croot/zipp_1672387552360/work\n",
            "zope.event==4.5.0\n",
            "zope.interface @ file:///C:/ci/zope.interface_1625036260333/work\n",
            "zstandard==0.19.0\n"
          ]
        }
      ],
      "source": [
        "!pip freeze"
      ]
    },
    {
      "cell_type": "code",
      "execution_count": null,
      "id": "66877a00",
      "metadata": {
        "id": "66877a00"
      },
      "outputs": [],
      "source": []
    }
  ],
  "metadata": {
    "colab": {
      "provenance": []
    },
    "kernelspec": {
      "display_name": "Python 3",
      "language": "python",
      "name": "python3"
    },
    "language_info": {
      "codemirror_mode": {
        "name": "ipython",
        "version": 3
      },
      "file_extension": ".py",
      "mimetype": "text/x-python",
      "name": "python",
      "nbconvert_exporter": "python",
      "pygments_lexer": "ipython3",
      "version": "3.11.5"
    }
  },
  "nbformat": 4,
  "nbformat_minor": 5
}
