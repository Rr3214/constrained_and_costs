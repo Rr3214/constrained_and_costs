{
  "cells": [
    {
      "cell_type": "code",
      "execution_count": 2,
      "id": "bc141f68",
      "metadata": {},
      "outputs": [],
      "source": [
        "%load_ext autoreload\n",
        "%autoreload 2"
      ]
    },
    {
      "cell_type": "code",
      "execution_count": 3,
      "id": "ecdc963a",
      "metadata": {},
      "outputs": [],
      "source": [
        "from ada_csl_wrc.evaluation import evaluate"
      ]
    },
    {
      "cell_type": "code",
      "execution_count": 4,
      "id": "d03c0ff0",
      "metadata": {
        "id": "d03c0ff0",
        "outputId": "d7340cbf-3b21-4536-f20c-0320f6f3e2c7"
      },
      "outputs": [
        {
          "name": "stdout",
          "output_type": "stream",
          "text": [
            "loaded ada_csl_wrc.utils\n"
          ]
        }
      ],
      "source": [
        "import numpy as np\n",
        "import pandas as pd\n",
        "from sklearn.model_selection import GridSearchCV\n",
        "from sklearn.model_selection import StratifiedKFold\n",
        "\n",
        "from sklearn.model_selection import train_test_split\n",
        "\n",
        "from ada_csl_wrc.models import CostSensitiveDecisionTreeClassifier\n",
        "\n",
        "import matplotlib.pyplot as plt\n",
        "\n",
        "from sklearn.metrics import confusion_matrix\n",
        "from sklearn.tree import DecisionTreeClassifier\n",
        "from sklearn.feature_selection import mutual_info_classif\n",
        "from ada_csl_wrc.models import ConstrainedCSDecisionTree\n",
        "from ada_csl_wrc.models import Constrained\n",
        "from sklearn.model_selection import train_test_split\n",
        "from ada_csl_wrc.utils import prediction_up_to_constraint\n",
        "import pandas as pd\n",
        "from ada_csl_wrc.utils import prepare_for_cost_cle\n",
        "from ada_csl_wrc.utils import filter_only_worst_features\n",
        "from ada_csl_wrc.utils import find_effective_threshold\n",
        "import json\n"
      ]
    },
    {
      "cell_type": "markdown",
      "id": "9f88a034",
      "metadata": {},
      "source": [
        "### Hyperparameters of the experiment"
      ]
    },
    {
      "cell_type": "code",
      "execution_count": 55,
      "id": "2af89146",
      "metadata": {},
      "outputs": [],
      "source": [
        "COST_FALSE_NEGATIVE = 10\n",
        "COST_FALSE_POSITIVE = 1\n",
        "t = COST_FALSE_POSITIVE/(COST_FALSE_POSITIVE+COST_FALSE_NEGATIVE)\n",
        "COST_MATRIX = np.array([[0, COST_FALSE_POSITIVE], [COST_FALSE_NEGATIVE, 0]])\n",
        "FEATURES_RATIO = 1.0"
      ]
    },
    {
      "cell_type": "code",
      "execution_count": 133,
      "id": "f6d0bb16",
      "metadata": {},
      "outputs": [
        {
          "data": {
            "text/plain": [
              "array([[ 0,  1],\n",
              "       [10,  0]])"
            ]
          },
          "execution_count": 133,
          "metadata": {},
          "output_type": "execute_result"
        }
      ],
      "source": [
        "COST_MATRIX"
      ]
    },
    {
      "cell_type": "markdown",
      "id": "436a7492",
      "metadata": {},
      "source": [
        "### Data-specific code\n",
        "\n",
        "This part includes some data-specific code. It is not included in the final model. <br>\n",
        "The X and the y are the dataframes that are used for training and testing."
      ]
    },
    {
      "cell_type": "code",
      "execution_count": 56,
      "id": "829244f9",
      "metadata": {},
      "outputs": [],
      "source": [
        "df = pd.read_csv('./data/marketing_campaign.csv', sep=\";\")\n",
        "df = df.drop(['Z_CostContact', 'Z_Revenue', 'Income', 'Dt_Customer', 'ID'], axis = 1)\n",
        "X = df.drop(labels = 'Response', axis=1)\n",
        "y = df['Response']\n",
        "\n",
        "#Transforming categorial features into numerical\n",
        "categorial_col = X.select_dtypes(include='object').columns\n",
        "X[categorial_col] = X[categorial_col].astype('category').apply(lambda x: x.cat.codes)\n",
        "X = filter_only_worst_features(X, y, FEATURES_RATIO)"
      ]
    },
    {
      "cell_type": "code",
      "execution_count": 7,
      "id": "a6865d5b",
      "metadata": {},
      "outputs": [],
      "source": [
        "def find_best_params(param_grid, X, y):\n",
        "    # Used for this dataset specifically, to find the best parameters for the decision tree\n",
        "    # Let's think about more general way to do so.\n",
        "    grid = GridSearchCV(DecisionTreeClassifier(), param_grid, cv=10, n_jobs=-1, scoring='f1', verbose=3)\n",
        "    grid.fit(X, y)\n",
        "    return grid.best_params_"
      ]
    },
    {
      "cell_type": "code",
      "execution_count": 59,
      "id": "d190ffb3",
      "metadata": {},
      "outputs": [],
      "source": [
        "dt_param_grid = {\n",
        "    \"max_depth\": [3, 5, 10, 15],\n",
        "    \"criterion\": [\"gini\", \"entropy\"],\n",
        "    \"min_samples_leaf\": [10, 15, 20, 30]\n",
        "}\n",
        "\n",
        "cs_best_params = json.load(open(\"./config/cost_sensitive_best_params.json\", \"r\")) #hard-coded in a json file\n",
        "#dt_best_params = find_best_params(dt_param_grid, X, y) #find it using grid search\n",
        "dt_best_params = {'criterion': 'gini', 'max_depth': 3, 'min_samples_leaf': 20}"
      ]
    },
    {
      "cell_type": "markdown",
      "id": "fc488125",
      "metadata": {},
      "source": [
        "If you have reached here, it means that you have in memory the dt_best_params and cs_best_params. <br>\n",
        "We will inititate our base-classifier based on these params. However, the results of the experiment might be affected by this choice. <br>"
      ]
    },
    {
      "cell_type": "markdown",
      "id": "d28376b4",
      "metadata": {},
      "source": [
        "## Starting the experiment"
      ]
    },
    {
      "cell_type": "code",
      "execution_count": 148,
      "id": "bfbb99b2",
      "metadata": {},
      "outputs": [
        {
          "data": {
            "text/plain": [
              "0.14910714285714285"
            ]
          },
          "execution_count": 148,
          "metadata": {},
          "output_type": "execute_result"
        }
      ],
      "source": [
        "real_positive_ratio = y.mean()"
      ]
    },
    {
      "cell_type": "code",
      "execution_count": 156,
      "id": "e3c260ba",
      "metadata": {},
      "outputs": [],
      "source": [
        "constraints_range = np.array([0.25, 0.75]) * real_positive_ratio\n",
        "constraints = np.linspace(*constraints_range, 50)\n",
        "#test_size = round(len(X)/3) * real_positive_ratio\n",
        "#absolute_constraints = int(constraints_range[0]*test_size), int(constraints_range[1]*test_size)\n",
        "#constraints_range = np.arange(absolute_constraints[0], absolute_constraints[1]) / test_size\n",
        "#absolute_constraints"
      ]
    },
    {
      "cell_type": "markdown",
      "id": "a05c0825",
      "metadata": {},
      "source": [
        "### Decision Tree\n",
        "With best params from the grid search, applying on various of constraints"
      ]
    },
    {
      "cell_type": "code",
      "execution_count": 142,
      "id": "86c1f00b",
      "metadata": {},
      "outputs": [],
      "source": [
        "from tqdm import tqdm"
      ]
    },
    {
      "cell_type": "code",
      "execution_count": 157,
      "id": "5966fd99",
      "metadata": {},
      "outputs": [
        {
          "name": "stderr",
          "output_type": "stream",
          "text": [
            "100%|██████████| 50/50 [00:02<00:00, 23.34it/s]\n",
            "100%|██████████| 50/50 [00:01<00:00, 27.42it/s]\n",
            "100%|██████████| 50/50 [00:01<00:00, 27.37it/s]\n",
            "100%|██████████| 50/50 [00:01<00:00, 28.34it/s]\n",
            "100%|██████████| 50/50 [00:01<00:00, 28.49it/s]\n",
            "100%|██████████| 50/50 [00:01<00:00, 27.42it/s]\n",
            "100%|██████████| 50/50 [00:01<00:00, 25.45it/s]\n",
            "100%|██████████| 50/50 [00:01<00:00, 27.28it/s]\n",
            "100%|██████████| 50/50 [00:01<00:00, 26.21it/s]\n",
            "100%|██████████| 50/50 [00:02<00:00, 24.79it/s]\n",
            "100%|██████████| 10/10 [00:18<00:00,  1.89s/it]\n"
          ]
        }
      ],
      "source": [
        "def run_constrained_experiment(constrained_model:Constrained, \n",
        "                               X, \n",
        "                               y, \n",
        "                               cost_matrix, \n",
        "                               constraint, \n",
        "                               random_state=42, \n",
        "                               n_splits=3):\n",
        "\n",
        "    fit_params = {}\n",
        "    out = {}\n",
        "    kf = StratifiedKFold(n_splits=n_splits, shuffle=True, random_state=random_state)\n",
        "    \n",
        "    for (fold, (train_index, test_index)) in enumerate(kf.split(X, y)):\n",
        "        #The ordinary Kfold, but with the constraint\n",
        "        X_train, X_test = X[train_index], X[test_index]\n",
        "        y_train, y_test = y[train_index], y[test_index]\n",
        "        \n",
        "        if isinstance(constrained_model.model, CostSensitiveDecisionTreeClassifier):\n",
        "            #The Cost Sensitive Decision Tree also needs the cost matrix as a fit parameter\n",
        "            fit_params['cost_mat'] = prepare_for_cost_cle(len(X_train), cost_matrix)\n",
        "\n",
        "        constrained_model.fit(X_train, y_train, **fit_params) #Fitting the model\n",
        "\n",
        "        #The constraint is a float between 0 and 1\n",
        "        y_pred = constrained_model.predict_constrained(X_test, constraint=constraint)\n",
        "        \n",
        "        out[fold] = evaluate(y_test, y_pred, cost_matrix)\n",
        "    \n",
        "\n",
        "    return pd.DataFrame(out).T.mean(axis=0).to_dict() #Returning the mean of the metrics\n",
        "\n",
        "results = {}\n",
        "for random_state in tqdm(range(10)):\n",
        "    for constraint in tqdm(constraints):\n",
        "        partial_results = run_constrained_experiment(Constrained(DecisionTreeClassifier(**dt_best_params)),\n",
        "                                    X.values,\n",
        "                                    y.values,\n",
        "                                    COST_MATRIX,\n",
        "                                    constraint=constraint, \n",
        "                                    random_state=random_state)\n",
        "        results[(random_state, constraint)] = partial_results\n",
        "#results = pd.DataFrame(results).T"
      ]
    },
    {
      "cell_type": "code",
      "execution_count": 163,
      "id": "db18aa07",
      "metadata": {},
      "outputs": [
        {
          "data": {
            "text/plain": [
              "{'cost': 635.3333333333334,\n",
              " 'accuracy': 0.1491070029298008,\n",
              " 'precision': 0.1491070029298008,\n",
              " 'recall': 1.0,\n",
              " 'f1': 0.259517589292381}"
            ]
          },
          "execution_count": 163,
          "metadata": {},
          "output_type": "execute_result"
        }
      ],
      "source": [
        "run_constrained_experiment(Constrained(DecisionTreeClassifier(**dt_best_params)), X.values, y.values, COST_MATRIX, 1.0)"
      ]
    },
    {
      "cell_type": "code",
      "execution_count": 158,
      "id": "1aae6c43",
      "metadata": {},
      "outputs": [
        {
          "data": {
            "text/plain": [
              "<Axes: >"
            ]
          },
          "execution_count": 158,
          "metadata": {},
          "output_type": "execute_result"
        },
        {
          "data": {
            "image/png": "[encoded data removed]",
            "text/plain": [
              "<Figure size 640x480 with 1 Axes>"
            ]
          },
          "metadata": {},
          "output_type": "display_data"
        }
      ],
      "source": [
        "pd.DataFrame(results).loc[\"f1\"].unstack(level=1).describe().T[[\"min\", \"mean\" ,\"max\"]].plot()"
      ]
    },
    {
      "cell_type": "code",
      "execution_count": 147,
      "id": "865f2251",
      "metadata": {},
      "outputs": [
        {
          "data": {
            "text/plain": [
              "<Axes: >"
            ]
          },
          "execution_count": 147,
          "metadata": {},
          "output_type": "execute_result"
        },
        {
          "data": {
            "image/png": "[encoded data removed]",
            "text/plain": [
              "<Figure size 640x480 with 1 Axes>"
            ]
          },
          "metadata": {},
          "output_type": "display_data"
        }
      ],
      "source": [
        "pd.DataFrame(results).loc[\"f1\"].unstack(level=1).describe().T[[\"min\", \"mean\" ,\"max\"]].plot()"
      ]
    },
    {
      "cell_type": "code",
      "execution_count": null,
      "id": "602d58cd",
      "metadata": {},
      "outputs": [],
      "source": [
        "#Create a multiple axes plot "
      ]
    },
    {
      "cell_type": "code",
      "execution_count": 95,
      "id": "54ed3693",
      "metadata": {},
      "outputs": [
        {
          "data": {
            "image/png": "[encoded data removed]",
            "text/plain": [
              "<Figure size 640x480 with 1 Axes>"
            ]
          },
          "metadata": {},
          "output_type": "display_data"
        }
      ],
      "source": [
        "metric = \"f1\"\n",
        "\n",
        "ax = results[metric].plot()\n",
        "ax.set_xlabel(\"Constraint\")\n",
        "ax.set_ylabel(metric)\n",
        "#setting the ylim\n",
        "# ax.set_ylim(0, 1)\n",
        "# ax.set_xlim(0.25, 0.75)\n",
        "# ax.set_xticks(np.linspace(0.25, 0.75, 6))\n",
        "# ax.set_yticks(np.linspace(0, 1, 11))\n",
        "ax.grid()"
      ]
    },
    {
      "cell_type": "code",
      "execution_count": 34,
      "id": "8bc3889f",
      "metadata": {},
      "outputs": [
        {
          "data": {
            "text/plain": [
              "{'cost': 872,\n",
              " 'accuracy': 0.8324396782841823,\n",
              " 'precision': 0.3,\n",
              " 'recall': 0.1782178217821782,\n",
              " 'f1': 0.2236024844720497}"
            ]
          },
          "execution_count": 34,
          "metadata": {},
          "output_type": "execute_result"
        }
      ],
      "source": [
        "X_train, X_test, y_train, y_test = train_test_split(X.values, y.values, test_size=0.333)\n",
        "\n",
        "absolute_constraint = 60\n",
        "constraint = absolute_constraint/len(y_test)\n",
        "dt = Constrained(DecisionTreeClassifier(**dt_best_params))\n",
        "dt.fit(X_train, y_train)\n",
        "y_pred_constrained = dt.predict_constrained(X_test, constraint=constraint)\n",
        "evaluate(y_test, y_pred_constrained, COST_MATRIX)"
      ]
    },
    {
      "cell_type": "code",
      "execution_count": null,
      "id": "3fb7e57f",
      "metadata": {},
      "outputs": [],
      "source": []
    },
    {
      "cell_type": "code",
      "execution_count": null,
      "id": "16d49a6b",
      "metadata": {},
      "outputs": [],
      "source": []
    },
    {
      "cell_type": "code",
      "execution_count": null,
      "id": "11ce60ec",
      "metadata": {},
      "outputs": [],
      "source": []
    },
    {
      "cell_type": "code",
      "execution_count": null,
      "id": "c058d9fb",
      "metadata": {},
      "outputs": [],
      "source": []
    },
    {
      "cell_type": "code",
      "execution_count": 60,
      "id": "de74f1ac",
      "metadata": {},
      "outputs": [
        {
          "name": "stdout",
          "output_type": "stream",
          "text": [
            "0.0\n",
            "0.005\n",
            "0.01\n",
            "0.015\n",
            "0.02\n"
          ]
        },
        {
          "name": "stderr",
          "output_type": "stream",
          "text": [
            "c:\\Users\\imargolin\\Anaconda3\\envs\\ucp\\Lib\\site-packages\\sklearn\\metrics\\_classification.py:1469: UndefinedMetricWarning: Precision is ill-defined and being set to 0.0 due to no predicted samples. Use `zero_division` parameter to control this behavior.\n",
            "  _warn_prf(average, modifier, msg_start, len(result))\n",
            "c:\\Users\\imargolin\\Anaconda3\\envs\\ucp\\Lib\\site-packages\\sklearn\\metrics\\_classification.py:1469: UndefinedMetricWarning: Precision is ill-defined and being set to 0.0 due to no predicted samples. Use `zero_division` parameter to control this behavior.\n",
            "  _warn_prf(average, modifier, msg_start, len(result))\n",
            "c:\\Users\\imargolin\\Anaconda3\\envs\\ucp\\Lib\\site-packages\\sklearn\\metrics\\_classification.py:1469: UndefinedMetricWarning: Precision is ill-defined and being set to 0.0 due to no predicted samples. Use `zero_division` parameter to control this behavior.\n",
            "  _warn_prf(average, modifier, msg_start, len(result))\n"
          ]
        },
        {
          "name": "stdout",
          "output_type": "stream",
          "text": [
            "0.025\n",
            "0.03\n",
            "0.035\n",
            "0.04\n",
            "0.045\n",
            "0.05\n",
            "0.055\n",
            "0.06\n",
            "0.065\n",
            "0.07\n",
            "0.075\n",
            "0.08\n",
            "0.085\n",
            "0.09\n",
            "0.095\n",
            "0.1\n",
            "0.105\n",
            "0.11\n",
            "0.115\n",
            "0.12\n",
            "0.125\n",
            "0.13\n",
            "0.135\n",
            "0.14\n",
            "0.145\n",
            "0.15\n",
            "0.155\n",
            "0.16\n",
            "0.165\n",
            "0.17\n",
            "0.175\n",
            "0.18\n",
            "0.185\n",
            "0.19\n",
            "0.195\n",
            "0.2\n",
            "0.205\n",
            "0.21\n",
            "0.215\n",
            "0.22\n",
            "0.225\n",
            "0.23\n",
            "0.235\n",
            "0.24\n",
            "0.245\n",
            "0.25\n",
            "0.255\n",
            "0.26\n",
            "0.265\n",
            "0.27\n",
            "0.275\n",
            "0.28\n",
            "0.285\n",
            "0.29\n",
            "0.295\n",
            "0.3\n",
            "0.305\n",
            "0.31\n",
            "0.315\n",
            "0.32\n",
            "0.325\n",
            "0.33\n",
            "0.335\n",
            "0.34\n",
            "0.345\n",
            "0.35\n",
            "0.355\n",
            "0.36\n",
            "0.365\n",
            "0.37\n",
            "0.375\n",
            "0.38\n",
            "0.385\n",
            "0.39\n",
            "0.395\n",
            "0.4\n",
            "0.405\n",
            "0.41\n",
            "0.415\n",
            "0.42\n",
            "0.425\n",
            "0.43\n",
            "0.435\n",
            "0.44\n",
            "0.445\n",
            "0.45\n",
            "0.455\n",
            "0.46\n",
            "0.465\n",
            "0.47\n",
            "0.475\n",
            "0.48\n",
            "0.485\n",
            "0.49\n",
            "0.495\n",
            "0.5\n",
            "0.505\n",
            "0.51\n",
            "0.515\n",
            "0.52\n",
            "0.525\n",
            "0.53\n",
            "0.535\n",
            "0.54\n",
            "0.545\n",
            "0.55\n",
            "0.555\n",
            "0.56\n",
            "0.565\n",
            "0.57\n",
            "0.575\n",
            "0.58\n",
            "0.585\n",
            "0.59\n",
            "0.595\n",
            "0.6\n",
            "0.605\n",
            "0.61\n",
            "0.615\n",
            "0.62\n",
            "0.625\n",
            "0.63\n",
            "0.635\n",
            "0.64\n",
            "0.645\n",
            "0.65\n",
            "0.655\n",
            "0.66\n",
            "0.665\n",
            "0.67\n",
            "0.675\n",
            "0.68\n",
            "0.685\n",
            "0.69\n",
            "0.695\n",
            "0.7\n",
            "0.705\n",
            "0.71\n",
            "0.715\n",
            "0.72\n",
            "0.725\n",
            "0.73\n",
            "0.735\n",
            "0.74\n",
            "0.745\n",
            "0.75\n",
            "0.755\n",
            "0.76\n",
            "0.765\n",
            "0.77\n",
            "0.775\n",
            "0.78\n",
            "0.785\n",
            "0.79\n",
            "0.795\n",
            "0.8\n",
            "0.805\n",
            "0.81\n",
            "0.815\n",
            "0.82\n",
            "0.825\n",
            "0.83\n",
            "0.835\n",
            "0.84\n",
            "0.845\n",
            "0.85\n",
            "0.855\n",
            "0.86\n",
            "0.865\n",
            "0.87\n",
            "0.875\n",
            "0.88\n",
            "0.885\n",
            "0.89\n",
            "0.895\n",
            "0.9\n",
            "0.905\n",
            "0.91\n",
            "0.915\n",
            "0.92\n",
            "0.925\n",
            "0.93\n",
            "0.935\n",
            "0.94\n",
            "0.945\n",
            "0.95\n",
            "0.955\n",
            "0.96\n",
            "0.965\n",
            "0.97\n",
            "0.975\n",
            "0.98\n",
            "0.985\n"
          ]
        }
      ],
      "source": [
        "def run_constrained_experiment(constrained_model:Constrained, \n",
        "                               X, \n",
        "                               y, \n",
        "                               cost_matrix, \n",
        "                               constraint:list, \n",
        "                               random_state=42, \n",
        "                               n_splits=3):\n",
        "\n",
        "    fit_params = {}\n",
        "    out = {}\n",
        "    kf = StratifiedKFold(n_splits=n_splits, shuffle=True, random_state=random_state)\n",
        "    \n",
        "    for (fold, (train_index, test_index)) in enumerate(kf.split(X, y)):\n",
        "        #The ordinary Kfold, but with the constraint\n",
        "        X_train, X_test = X[train_index], X[test_index]\n",
        "        y_train, y_test = y[train_index], y[test_index]\n",
        "        \n",
        "        if isinstance(constrained_model.model, CostSensitiveDecisionTreeClassifier):\n",
        "            #The Cost Sensitive Decision Tree also needs the cost matrix as a fit parameter\n",
        "            fit_params['cost_mat'] = prepare_for_cost_cle(len(X_train), cost_matrix)\n",
        "\n",
        "        constrained_model.fit(X_train, y_train, **fit_params) #Fitting the model\n",
        "\n",
        "        #The constraint is a float between 0 and 1\n",
        "        y_pred = constrained_model.predict_constrained(X_test, constraint=constraint)\n",
        "        out[fold] = evaluate(y_test, y_pred, cost_matrix)\n",
        "\n",
        "    return pd.DataFrame(out).T.mean(axis=0).to_dict() #Returning the mean of the metrics\n",
        "\n",
        "results = {}\n",
        "for constraint in np.arange(0.00, 0.99, 0.005).round(3):\n",
        "    print(constraint)\n",
        "\n",
        "    partial_results = run_constrained_experiment(Constrained(DecisionTreeClassifier(**dt_best_params)),\n",
        "                                X.values,\n",
        "                                y.values,\n",
        "                                COST_MATRIX,\n",
        "                                constraint=constraint)\n",
        "    results[constraint] = partial_results"
      ]
    },
    {
      "cell_type": "code",
      "execution_count": 65,
      "id": "6c3861ca",
      "metadata": {},
      "outputs": [
        {
          "data": {
            "text/plain": [
              "<Axes: >"
            ]
          },
          "execution_count": 65,
          "metadata": {},
          "output_type": "execute_result"
        },
        {
          "data": {
            "image/png": "[encoded data removed]",
            "text/plain": [
              "<Figure size 640x480 with 1 Axes>"
            ]
          },
          "metadata": {},
          "output_type": "display_data"
        }
      ],
      "source": [
        "pd.DataFrame(results).T[\"cost\"].plot()"
      ]
    },
    {
      "cell_type": "code",
      "execution_count": 38,
      "id": "2f31e25f",
      "metadata": {},
      "outputs": [
        {
          "name": "stdout",
          "output_type": "stream",
          "text": [
            "Threshold: 0.41 Effective Threshold: 0.52 Cost False Positive: 7.32 Lower Bound: 6.84 Upper Bound: 7.8125000\n",
            "DONE\n",
            "Threshold: 0.42\n",
            "Effective threshold: 0.42\n",
            "Current cfp:  7.080078125\n",
            "Lower bound:  6.8359375\n",
            "Upper bound:  7.32421875\n",
            "Threshold: 0.49 Effective Threshold: 0.49 Cost False Positive: 8.79 Lower Bound: 7.81 Upper Bound: 9.7722000\n",
            "DONE\n",
            "Threshold: 0.47\n",
            "Effective threshold: 0.47\n",
            "Current cfp:  8.30078125\n",
            "Lower bound:  7.8125\n",
            "Upper bound:  8.7890625\n",
            "Threshold: 0.49 Effective Threshold: 0.49 Cost False Positive: 8.79 Lower Bound: 7.81 Upper Bound: 9.7722000\n",
            "DONE\n",
            "Threshold: 0.47\n",
            "Effective threshold: 0.47\n",
            "Current cfp:  8.30078125\n",
            "Lower bound:  7.8125\n",
            "Upper bound:  8.7890625\n"
          ]
        }
      ],
      "source": [
        "def run_our_experiment(\n",
        "        X, \n",
        "        y, \n",
        "        cost_matrix, \n",
        "        constraint, \n",
        "        random_state=42, \n",
        "        n_splits=3, **model_params):\n",
        "    \n",
        "    kf = StratifiedKFold(n_splits=n_splits, shuffle=True, random_state=random_state)\n",
        "    cfn = cost_matrix[1,0]\n",
        "    out = {}\n",
        "\n",
        "    for (fold, (train_index, test_index)) in enumerate(kf.split(X, y)):\n",
        "        X_train, X_test = X[train_index], X[test_index]\n",
        "        y_train, y_test = y[train_index], y[test_index]\n",
        "    \n",
        "        model = ConstrainedCSDecisionTree(constraint=constraint, **model_params)\n",
        "        model.fit(X_train, y_train, cfn=cfn)\n",
        "        y_pred = model.predict(X_test)\n",
        "        out[fold] = evaluate(y_test, y_pred, cost_matrix)\n",
        "\n",
        "    return pd.DataFrame(out).T.mean(axis=0)\n",
        "\n",
        "#ConstrainedCSDecisionTree(constraint=0.5).fit(X_train, y_train, cfn=10)\n",
        "asdasd = run_our_experiment(X.values, y.values, cost_matrix=COST_MATRIX, constraint=0.06702412868632708, **cs_best_params)"
      ]
    },
    {
      "cell_type": "code",
      "execution_count": 40,
      "id": "940f623b",
      "metadata": {},
      "outputs": [
        {
          "data": {
            "text/plain": [
              "cost         855.333333\n",
              "accuracy       0.858926\n",
              "precision      0.560000\n",
              "recall         0.251421\n",
              "f1             0.347034\n",
              "dtype: float64"
            ]
          },
          "execution_count": 40,
          "metadata": {},
          "output_type": "execute_result"
        }
      ],
      "source": [
        "asdasd"
      ]
    },
    {
      "cell_type": "code",
      "execution_count": null,
      "id": "2cbd6dc6",
      "metadata": {},
      "outputs": [],
      "source": []
    },
    {
      "cell_type": "code",
      "execution_count": 158,
      "id": "d397cd5c",
      "metadata": {},
      "outputs": [
        {
          "name": "stdout",
          "output_type": "stream",
          "text": [
            "Train: 1493 TEST: 747\n",
            "Train: 1493 TEST: 747\n",
            "Train: 1494 TEST: 746\n"
          ]
        },
        {
          "data": {
            "text/plain": [
              "cost         774.666667\n",
              "accuracy       0.878572\n",
              "precision      0.706667\n",
              "recall         0.317353\n",
              "f1             0.438003\n",
              "dtype: float64"
            ]
          },
          "execution_count": 158,
          "metadata": {},
          "output_type": "execute_result"
        }
      ],
      "source": [
        "constrained_model = Constrained(DecisionTreeClassifier(**dt_best_params))\n",
        "#constrained_model = Constrained(CostSensitiveDecisionTreeClassifier(**cs_best_params))\n",
        "out = run_constrained_experiment(\n",
        "    constrained_model = constrained_model, \n",
        "    X = X.values, \n",
        "    y = y.values, \n",
        "    cost_matrix = COST_MATRIX, \n",
        "    constraint = 0.06702412868632708,#, 0.08042895442359249], \n",
        "    random_state=42, \n",
        "    n_splits=3)\n",
        "\n",
        "# fit_params = {}\n",
        "# fit_params['cost_mat'] = create_cs_matrix(len(X_train), COST_MATRIX)\n",
        "\n",
        "# model.fit(X_train, y_train, **fit_params)\n",
        "\n",
        "# out = {}\n",
        "# for absolute_constraint in range(10, 100, 10):\n",
        "    \n",
        "#     constraint = absolute_constraint/len(y_test) #convert to relative constraint\n",
        "\n",
        "#     y_pred = model.predict_constrained(X_test, constraint=constraint)\n",
        "#     out[absolute_constraint] = evaluate(y_test, y_pred, COST_MATRIX)\n",
        "out"
      ]
    },
    {
      "cell_type": "code",
      "execution_count": 157,
      "id": "4312c34f",
      "metadata": {},
      "outputs": [
        {
          "data": {
            "text/plain": [
              "cost         774.666667\n",
              "accuracy       0.878572\n",
              "precision      0.706667\n",
              "recall         0.317353\n",
              "f1             0.438003\n",
              "dtype: float64"
            ]
          },
          "execution_count": 157,
          "metadata": {},
          "output_type": "execute_result"
        }
      ],
      "source": []
    },
    {
      "cell_type": "code",
      "execution_count": 144,
      "id": "f6d8884c",
      "metadata": {},
      "outputs": [
        {
          "data": {
            "text/html": [
              "<div>\n",
              "<style scoped>\n",
              "    .dataframe tbody tr th:only-of-type {\n",
              "        vertical-align: middle;\n",
              "    }\n",
              "\n",
              "    .dataframe tbody tr th {\n",
              "        vertical-align: top;\n",
              "    }\n",
              "\n",
              "    .dataframe thead th {\n",
              "        text-align: right;\n",
              "    }\n",
              "</style>\n",
              "<table border=\"1\" class=\"dataframe\">\n",
              "  <thead>\n",
              "    <tr style=\"text-align: right;\">\n",
              "      <th></th>\n",
              "      <th>cost</th>\n",
              "      <th>accuracy</th>\n",
              "      <th>precision</th>\n",
              "      <th>recall</th>\n",
              "      <th>f1</th>\n",
              "    </tr>\n",
              "  </thead>\n",
              "  <tbody>\n",
              "    <tr>\n",
              "      <th>0</th>\n",
              "      <td>1060.0</td>\n",
              "      <td>0.809906</td>\n",
              "      <td>0.20</td>\n",
              "      <td>0.089286</td>\n",
              "      <td>0.123457</td>\n",
              "    </tr>\n",
              "    <tr>\n",
              "      <th>1</th>\n",
              "      <td>1017.0</td>\n",
              "      <td>0.819277</td>\n",
              "      <td>0.26</td>\n",
              "      <td>0.117117</td>\n",
              "      <td>0.161491</td>\n",
              "    </tr>\n",
              "    <tr>\n",
              "      <th>2</th>\n",
              "      <td>1050.0</td>\n",
              "      <td>0.810992</td>\n",
              "      <td>0.20</td>\n",
              "      <td>0.090090</td>\n",
              "      <td>0.124224</td>\n",
              "    </tr>\n",
              "  </tbody>\n",
              "</table>\n",
              "</div>"
            ],
            "text/plain": [
              "     cost  accuracy  precision    recall        f1\n",
              "0  1060.0  0.809906       0.20  0.089286  0.123457\n",
              "1  1017.0  0.819277       0.26  0.117117  0.161491\n",
              "2  1050.0  0.810992       0.20  0.090090  0.124224"
            ]
          },
          "execution_count": 144,
          "metadata": {},
          "output_type": "execute_result"
        }
      ],
      "source": [
        "pd.DataFrame(out[0.06702412868632708]).T"
      ]
    },
    {
      "cell_type": "code",
      "execution_count": 146,
      "id": "0ec6c331",
      "metadata": {},
      "outputs": [
        {
          "data": {
            "text/html": [
              "<div>\n",
              "<style scoped>\n",
              "    .dataframe tbody tr th:only-of-type {\n",
              "        vertical-align: middle;\n",
              "    }\n",
              "\n",
              "    .dataframe tbody tr th {\n",
              "        vertical-align: top;\n",
              "    }\n",
              "\n",
              "    .dataframe thead th {\n",
              "        text-align: right;\n",
              "    }\n",
              "</style>\n",
              "<table border=\"1\" class=\"dataframe\">\n",
              "  <thead>\n",
              "    <tr style=\"text-align: right;\">\n",
              "      <th></th>\n",
              "      <th>0.067024</th>\n",
              "      <th>0.080429</th>\n",
              "    </tr>\n",
              "  </thead>\n",
              "  <tbody>\n",
              "    <tr>\n",
              "      <th>cost</th>\n",
              "      <td>1042.333333</td>\n",
              "      <td>1034.000000</td>\n",
              "    </tr>\n",
              "    <tr>\n",
              "      <th>accuracy</th>\n",
              "      <td>0.813392</td>\n",
              "      <td>0.804464</td>\n",
              "    </tr>\n",
              "    <tr>\n",
              "      <th>precision</th>\n",
              "      <td>0.220000</td>\n",
              "      <td>0.211111</td>\n",
              "    </tr>\n",
              "    <tr>\n",
              "      <th>recall</th>\n",
              "      <td>0.098831</td>\n",
              "      <td>0.113819</td>\n",
              "    </tr>\n",
              "    <tr>\n",
              "      <th>f1</th>\n",
              "      <td>0.136390</td>\n",
              "      <td>0.147899</td>\n",
              "    </tr>\n",
              "  </tbody>\n",
              "</table>\n",
              "</div>"
            ],
            "text/plain": [
              "              0.067024     0.080429\n",
              "cost       1042.333333  1034.000000\n",
              "accuracy      0.813392     0.804464\n",
              "precision     0.220000     0.211111\n",
              "recall        0.098831     0.113819\n",
              "f1            0.136390     0.147899"
            ]
          },
          "execution_count": 146,
          "metadata": {},
          "output_type": "execute_result"
        }
      ],
      "source": [
        "pd.DataFrame({constraint: pd.DataFrame(out[constraint]).mean(axis=1).to_dict() for constraint in out.keys()})"
      ]
    },
    {
      "cell_type": "code",
      "execution_count": 105,
      "id": "a863a53c",
      "metadata": {},
      "outputs": [
        {
          "data": {
            "text/plain": [
              "{0.1: {'cost': 441.4,\n",
              "  'accuracy': 0.8625,\n",
              "  'precision': 0.5590909090909091,\n",
              "  'recall': 0.3681592039800995,\n",
              "  'f1': 0.443963963963964},\n",
              " 0.2: {'cost': 365.4,\n",
              "  'accuracy': 0.8111607142857142,\n",
              "  'precision': 0.39999999999999997,\n",
              "  'recall': 0.5327453640886477,\n",
              "  'f1': 0.4569230769230769},\n",
              " 0.3: {'cost': 289.4,\n",
              "  'accuracy': 0.7598214285714285,\n",
              "  'precision': 0.34776119402985073,\n",
              "  'recall': 0.697467209407508,\n",
              "  'f1': 0.46410945273631843},\n",
              " 0.4: {'cost': 283.8,\n",
              "  'accuracy': 0.6799107142857143,\n",
              "  'precision': 0.28603351955307266,\n",
              "  'recall': 0.7666214382632294,\n",
              "  'f1': 0.416618549858968},\n",
              " 0.5: {'cost': 302.4,\n",
              "  'accuracy': 0.5901785714285714,\n",
              "  'precision': 0.23928571428571427,\n",
              "  'recall': 0.8025780189959294,\n",
              "  'f1': 0.3686550539163408}}"
            ]
          },
          "execution_count": 105,
          "metadata": {},
          "output_type": "execute_result"
        }
      ],
      "source": [
        "{constraint: pd.DataFrame(out[constraint]).mean(axis=1).to_dict() for constraint in out.keys()}"
      ]
    },
    {
      "cell_type": "code",
      "execution_count": 91,
      "id": "eeb4c123",
      "metadata": {},
      "outputs": [
        {
          "data": {
            "text/plain": [
              "cost         443.600000\n",
              "accuracy       0.861607\n",
              "precision      0.554545\n",
              "recall         0.365174\n",
              "f1             0.440360\n",
              "dtype: float64"
            ]
          },
          "execution_count": 91,
          "metadata": {},
          "output_type": "execute_result"
        }
      ],
      "source": [
        "pd.DataFrame(out[0.1]).mean(axis=1)"
      ]
    },
    {
      "cell_type": "code",
      "execution_count": 80,
      "id": "c9e6a7d1",
      "metadata": {},
      "outputs": [
        {
          "data": {
            "text/html": [
              "<div>\n",
              "<style scoped>\n",
              "    .dataframe tbody tr th:only-of-type {\n",
              "        vertical-align: middle;\n",
              "    }\n",
              "\n",
              "    .dataframe tbody tr th {\n",
              "        vertical-align: top;\n",
              "    }\n",
              "\n",
              "    .dataframe thead th {\n",
              "        text-align: right;\n",
              "    }\n",
              "</style>\n",
              "<table border=\"1\" class=\"dataframe\">\n",
              "  <thead>\n",
              "    <tr style=\"text-align: right;\">\n",
              "      <th></th>\n",
              "      <th>0</th>\n",
              "      <th>1</th>\n",
              "      <th>2</th>\n",
              "    </tr>\n",
              "  </thead>\n",
              "  <tbody>\n",
              "    <tr>\n",
              "      <th>0.1</th>\n",
              "      <td>{'cost': 776, 'accuracy': 0.8527443105756358, ...</td>\n",
              "      <td>{'cost': 711, 'accuracy': 0.8674698795180723, ...</td>\n",
              "      <td>{'cost': 766, 'accuracy': 0.853887399463807, '...</td>\n",
              "    </tr>\n",
              "    <tr>\n",
              "      <th>0.2</th>\n",
              "      <td>{'cost': 587, 'accuracy': 0.8165997322623829, ...</td>\n",
              "      <td>{'cost': 632, 'accuracy': 0.8045515394912985, ...</td>\n",
              "      <td>{'cost': 610, 'accuracy': 0.8096514745308311, ...</td>\n",
              "    </tr>\n",
              "    <tr>\n",
              "      <th>0.3</th>\n",
              "      <td>{'cost': 508, 'accuracy': 0.7536813922356091, ...</td>\n",
              "      <td>{'cost': 487, 'accuracy': 0.7576974564926372, ...</td>\n",
              "      <td>{'cost': 486, 'accuracy': 0.7587131367292225, ...</td>\n",
              "    </tr>\n",
              "    <tr>\n",
              "      <th>0.4</th>\n",
              "      <td>{'cost': 538, 'accuracy': 0.6653279785809906, ...</td>\n",
              "      <td>{'cost': 484, 'accuracy': 0.677376171352075, '...</td>\n",
              "      <td>{'cost': 484, 'accuracy': 0.6769436997319035, ...</td>\n",
              "    </tr>\n",
              "    <tr>\n",
              "      <th>0.5</th>\n",
              "      <td>{'cost': 558, 'accuracy': 0.5783132530120482, ...</td>\n",
              "      <td>{'cost': 515, 'accuracy': 0.5876840696117804, ...</td>\n",
              "      <td>{'cost': 493, 'accuracy': 0.5924932975871313, ...</td>\n",
              "    </tr>\n",
              "  </tbody>\n",
              "</table>\n",
              "</div>"
            ],
            "text/plain": [
              "                                                     0  \\\n",
              "0.1  {'cost': 776, 'accuracy': 0.8527443105756358, ...   \n",
              "0.2  {'cost': 587, 'accuracy': 0.8165997322623829, ...   \n",
              "0.3  {'cost': 508, 'accuracy': 0.7536813922356091, ...   \n",
              "0.4  {'cost': 538, 'accuracy': 0.6653279785809906, ...   \n",
              "0.5  {'cost': 558, 'accuracy': 0.5783132530120482, ...   \n",
              "\n",
              "                                                     1  \\\n",
              "0.1  {'cost': 711, 'accuracy': 0.8674698795180723, ...   \n",
              "0.2  {'cost': 632, 'accuracy': 0.8045515394912985, ...   \n",
              "0.3  {'cost': 487, 'accuracy': 0.7576974564926372, ...   \n",
              "0.4  {'cost': 484, 'accuracy': 0.677376171352075, '...   \n",
              "0.5  {'cost': 515, 'accuracy': 0.5876840696117804, ...   \n",
              "\n",
              "                                                     2  \n",
              "0.1  {'cost': 766, 'accuracy': 0.853887399463807, '...  \n",
              "0.2  {'cost': 610, 'accuracy': 0.8096514745308311, ...  \n",
              "0.3  {'cost': 486, 'accuracy': 0.7587131367292225, ...  \n",
              "0.4  {'cost': 484, 'accuracy': 0.6769436997319035, ...  \n",
              "0.5  {'cost': 493, 'accuracy': 0.5924932975871313, ...  "
            ]
          },
          "execution_count": 80,
          "metadata": {},
          "output_type": "execute_result"
        }
      ],
      "source": [
        "#pd.json_normalize(out)\n",
        "\n",
        "pd.DataFrame(out).T"
      ]
    },
    {
      "cell_type": "code",
      "execution_count": 57,
      "id": "4d71db69",
      "metadata": {},
      "outputs": [
        {
          "name": "stdout",
          "output_type": "stream",
          "text": [
            "\u001b[1;31mInit signature:\u001b[0m \u001b[0mStratifiedKFold\u001b[0m\u001b[1;33m(\u001b[0m\u001b[0mn_splits\u001b[0m\u001b[1;33m=\u001b[0m\u001b[1;36m5\u001b[0m\u001b[1;33m,\u001b[0m \u001b[1;33m*\u001b[0m\u001b[1;33m,\u001b[0m \u001b[0mshuffle\u001b[0m\u001b[1;33m=\u001b[0m\u001b[1;32mFalse\u001b[0m\u001b[1;33m,\u001b[0m \u001b[0mrandom_state\u001b[0m\u001b[1;33m=\u001b[0m\u001b[1;32mNone\u001b[0m\u001b[1;33m)\u001b[0m\u001b[1;33m\u001b[0m\u001b[1;33m\u001b[0m\u001b[0m\n",
            "\u001b[1;31mSource:\u001b[0m        \n",
            "\u001b[1;32mclass\u001b[0m \u001b[0mStratifiedKFold\u001b[0m\u001b[1;33m(\u001b[0m\u001b[0m_BaseKFold\u001b[0m\u001b[1;33m)\u001b[0m\u001b[1;33m:\u001b[0m\u001b[1;33m\n",
            "\u001b[0m    \u001b[1;34m\"\"\"Stratified K-Folds cross-validator.\n",
            "\n",
            "    Provides train/test indices to split data in train/test sets.\n",
            "\n",
            "    This cross-validation object is a variation of KFold that returns\n",
            "    stratified folds. The folds are made by preserving the percentage of\n",
            "    samples for each class.\n",
            "\n",
            "    Read more in the :ref:`User Guide <stratified_k_fold>`.\n",
            "\n",
            "    For visualisation of cross-validation behaviour and\n",
            "    comparison between common scikit-learn split methods\n",
            "    refer to :ref:`sphx_glr_auto_examples_model_selection_plot_cv_indices.py`\n",
            "\n",
            "    Parameters\n",
            "    ----------\n",
            "    n_splits : int, default=5\n",
            "        Number of folds. Must be at least 2.\n",
            "\n",
            "        .. versionchanged:: 0.22\n",
            "            ``n_splits`` default value changed from 3 to 5.\n",
            "\n",
            "    shuffle : bool, default=False\n",
            "        Whether to shuffle each class's samples before splitting into batches.\n",
            "        Note that the samples within each split will not be shuffled.\n",
            "\n",
            "    random_state : int, RandomState instance or None, default=None\n",
            "        When `shuffle` is True, `random_state` affects the ordering of the\n",
            "        indices, which controls the randomness of each fold for each class.\n",
            "        Otherwise, leave `random_state` as `None`.\n",
            "        Pass an int for reproducible output across multiple function calls.\n",
            "        See :term:`Glossary <random_state>`.\n",
            "\n",
            "    Examples\n",
            "    --------\n",
            "    >>> import numpy as np\n",
            "    >>> from sklearn.model_selection import StratifiedKFold\n",
            "    >>> X = np.array([[1, 2], [3, 4], [1, 2], [3, 4]])\n",
            "    >>> y = np.array([0, 0, 1, 1])\n",
            "    >>> skf = StratifiedKFold(n_splits=2)\n",
            "    >>> skf.get_n_splits(X, y)\n",
            "    2\n",
            "    >>> print(skf)\n",
            "    StratifiedKFold(n_splits=2, random_state=None, shuffle=False)\n",
            "    >>> for i, (train_index, test_index) in enumerate(skf.split(X, y)):\n",
            "    ...     print(f\"Fold {i}:\")\n",
            "    ...     print(f\"  Train: index={train_index}\")\n",
            "    ...     print(f\"  Test:  index={test_index}\")\n",
            "    Fold 0:\n",
            "      Train: index=[1 3]\n",
            "      Test:  index=[0 2]\n",
            "    Fold 1:\n",
            "      Train: index=[0 2]\n",
            "      Test:  index=[1 3]\n",
            "\n",
            "    Notes\n",
            "    -----\n",
            "    The implementation is designed to:\n",
            "\n",
            "    * Generate test sets such that all contain the same distribution of\n",
            "      classes, or as close as possible.\n",
            "    * Be invariant to class label: relabelling ``y = [\"Happy\", \"Sad\"]`` to\n",
            "      ``y = [1, 0]`` should not change the indices generated.\n",
            "    * Preserve order dependencies in the dataset ordering, when\n",
            "      ``shuffle=False``: all samples from class k in some test set were\n",
            "      contiguous in y, or separated in y by samples from classes other than k.\n",
            "    * Generate test sets where the smallest and largest differ by at most one\n",
            "      sample.\n",
            "\n",
            "    .. versionchanged:: 0.22\n",
            "        The previous implementation did not follow the last constraint.\n",
            "\n",
            "    See Also\n",
            "    --------\n",
            "    RepeatedStratifiedKFold : Repeats Stratified K-Fold n times.\n",
            "    \"\"\"\u001b[0m\u001b[1;33m\n",
            "\u001b[0m\u001b[1;33m\n",
            "\u001b[0m    \u001b[1;32mdef\u001b[0m \u001b[0m__init__\u001b[0m\u001b[1;33m(\u001b[0m\u001b[0mself\u001b[0m\u001b[1;33m,\u001b[0m \u001b[0mn_splits\u001b[0m\u001b[1;33m=\u001b[0m\u001b[1;36m5\u001b[0m\u001b[1;33m,\u001b[0m \u001b[1;33m*\u001b[0m\u001b[1;33m,\u001b[0m \u001b[0mshuffle\u001b[0m\u001b[1;33m=\u001b[0m\u001b[1;32mFalse\u001b[0m\u001b[1;33m,\u001b[0m \u001b[0mrandom_state\u001b[0m\u001b[1;33m=\u001b[0m\u001b[1;32mNone\u001b[0m\u001b[1;33m)\u001b[0m\u001b[1;33m:\u001b[0m\u001b[1;33m\n",
            "\u001b[0m        \u001b[0msuper\u001b[0m\u001b[1;33m(\u001b[0m\u001b[1;33m)\u001b[0m\u001b[1;33m.\u001b[0m\u001b[0m__init__\u001b[0m\u001b[1;33m(\u001b[0m\u001b[0mn_splits\u001b[0m\u001b[1;33m=\u001b[0m\u001b[0mn_splits\u001b[0m\u001b[1;33m,\u001b[0m \u001b[0mshuffle\u001b[0m\u001b[1;33m=\u001b[0m\u001b[0mshuffle\u001b[0m\u001b[1;33m,\u001b[0m \u001b[0mrandom_state\u001b[0m\u001b[1;33m=\u001b[0m\u001b[0mrandom_state\u001b[0m\u001b[1;33m)\u001b[0m\u001b[1;33m\n",
            "\u001b[0m\u001b[1;33m\n",
            "\u001b[0m    \u001b[1;32mdef\u001b[0m \u001b[0m_make_test_folds\u001b[0m\u001b[1;33m(\u001b[0m\u001b[0mself\u001b[0m\u001b[1;33m,\u001b[0m \u001b[0mX\u001b[0m\u001b[1;33m,\u001b[0m \u001b[0my\u001b[0m\u001b[1;33m=\u001b[0m\u001b[1;32mNone\u001b[0m\u001b[1;33m)\u001b[0m\u001b[1;33m:\u001b[0m\u001b[1;33m\n",
            "\u001b[0m        \u001b[0mrng\u001b[0m \u001b[1;33m=\u001b[0m \u001b[0mcheck_random_state\u001b[0m\u001b[1;33m(\u001b[0m\u001b[0mself\u001b[0m\u001b[1;33m.\u001b[0m\u001b[0mrandom_state\u001b[0m\u001b[1;33m)\u001b[0m\u001b[1;33m\n",
            "\u001b[0m        \u001b[0my\u001b[0m \u001b[1;33m=\u001b[0m \u001b[0mnp\u001b[0m\u001b[1;33m.\u001b[0m\u001b[0masarray\u001b[0m\u001b[1;33m(\u001b[0m\u001b[0my\u001b[0m\u001b[1;33m)\u001b[0m\u001b[1;33m\n",
            "\u001b[0m        \u001b[0mtype_of_target_y\u001b[0m \u001b[1;33m=\u001b[0m \u001b[0mtype_of_target\u001b[0m\u001b[1;33m(\u001b[0m\u001b[0my\u001b[0m\u001b[1;33m)\u001b[0m\u001b[1;33m\n",
            "\u001b[0m        \u001b[0mallowed_target_types\u001b[0m \u001b[1;33m=\u001b[0m \u001b[1;33m(\u001b[0m\u001b[1;34m\"binary\"\u001b[0m\u001b[1;33m,\u001b[0m \u001b[1;34m\"multiclass\"\u001b[0m\u001b[1;33m)\u001b[0m\u001b[1;33m\n",
            "\u001b[0m        \u001b[1;32mif\u001b[0m \u001b[0mtype_of_target_y\u001b[0m \u001b[1;32mnot\u001b[0m \u001b[1;32min\u001b[0m \u001b[0mallowed_target_types\u001b[0m\u001b[1;33m:\u001b[0m\u001b[1;33m\n",
            "\u001b[0m            \u001b[1;32mraise\u001b[0m \u001b[0mValueError\u001b[0m\u001b[1;33m(\u001b[0m\u001b[1;33m\n",
            "\u001b[0m                \u001b[1;34m\"Supported target types are: {}. Got {!r} instead.\"\u001b[0m\u001b[1;33m.\u001b[0m\u001b[0mformat\u001b[0m\u001b[1;33m(\u001b[0m\u001b[1;33m\n",
            "\u001b[0m                    \u001b[0mallowed_target_types\u001b[0m\u001b[1;33m,\u001b[0m \u001b[0mtype_of_target_y\u001b[0m\u001b[1;33m\n",
            "\u001b[0m                \u001b[1;33m)\u001b[0m\u001b[1;33m\n",
            "\u001b[0m            \u001b[1;33m)\u001b[0m\u001b[1;33m\n",
            "\u001b[0m\u001b[1;33m\n",
            "\u001b[0m        \u001b[0my\u001b[0m \u001b[1;33m=\u001b[0m \u001b[0mcolumn_or_1d\u001b[0m\u001b[1;33m(\u001b[0m\u001b[0my\u001b[0m\u001b[1;33m)\u001b[0m\u001b[1;33m\n",
            "\u001b[0m\u001b[1;33m\n",
            "\u001b[0m        \u001b[0m_\u001b[0m\u001b[1;33m,\u001b[0m \u001b[0my_idx\u001b[0m\u001b[1;33m,\u001b[0m \u001b[0my_inv\u001b[0m \u001b[1;33m=\u001b[0m \u001b[0mnp\u001b[0m\u001b[1;33m.\u001b[0m\u001b[0munique\u001b[0m\u001b[1;33m(\u001b[0m\u001b[0my\u001b[0m\u001b[1;33m,\u001b[0m \u001b[0mreturn_index\u001b[0m\u001b[1;33m=\u001b[0m\u001b[1;32mTrue\u001b[0m\u001b[1;33m,\u001b[0m \u001b[0mreturn_inverse\u001b[0m\u001b[1;33m=\u001b[0m\u001b[1;32mTrue\u001b[0m\u001b[1;33m)\u001b[0m\u001b[1;33m\n",
            "\u001b[0m        \u001b[1;31m# y_inv encodes y according to lexicographic order. We invert y_idx to\u001b[0m\u001b[1;33m\n",
            "\u001b[0m        \u001b[1;31m# map the classes so that they are encoded by order of appearance:\u001b[0m\u001b[1;33m\n",
            "\u001b[0m        \u001b[1;31m# 0 represents the first label appearing in y, 1 the second, etc.\u001b[0m\u001b[1;33m\n",
            "\u001b[0m        \u001b[0m_\u001b[0m\u001b[1;33m,\u001b[0m \u001b[0mclass_perm\u001b[0m \u001b[1;33m=\u001b[0m \u001b[0mnp\u001b[0m\u001b[1;33m.\u001b[0m\u001b[0munique\u001b[0m\u001b[1;33m(\u001b[0m\u001b[0my_idx\u001b[0m\u001b[1;33m,\u001b[0m \u001b[0mreturn_inverse\u001b[0m\u001b[1;33m=\u001b[0m\u001b[1;32mTrue\u001b[0m\u001b[1;33m)\u001b[0m\u001b[1;33m\n",
            "\u001b[0m        \u001b[0my_encoded\u001b[0m \u001b[1;33m=\u001b[0m \u001b[0mclass_perm\u001b[0m\u001b[1;33m[\u001b[0m\u001b[0my_inv\u001b[0m\u001b[1;33m]\u001b[0m\u001b[1;33m\n",
            "\u001b[0m\u001b[1;33m\n",
            "\u001b[0m        \u001b[0mn_classes\u001b[0m \u001b[1;33m=\u001b[0m \u001b[0mlen\u001b[0m\u001b[1;33m(\u001b[0m\u001b[0my_idx\u001b[0m\u001b[1;33m)\u001b[0m\u001b[1;33m\n",
            "\u001b[0m        \u001b[0my_counts\u001b[0m \u001b[1;33m=\u001b[0m \u001b[0mnp\u001b[0m\u001b[1;33m.\u001b[0m\u001b[0mbincount\u001b[0m\u001b[1;33m(\u001b[0m\u001b[0my_encoded\u001b[0m\u001b[1;33m)\u001b[0m\u001b[1;33m\n",
            "\u001b[0m        \u001b[0mmin_groups\u001b[0m \u001b[1;33m=\u001b[0m \u001b[0mnp\u001b[0m\u001b[1;33m.\u001b[0m\u001b[0mmin\u001b[0m\u001b[1;33m(\u001b[0m\u001b[0my_counts\u001b[0m\u001b[1;33m)\u001b[0m\u001b[1;33m\n",
            "\u001b[0m        \u001b[1;32mif\u001b[0m \u001b[0mnp\u001b[0m\u001b[1;33m.\u001b[0m\u001b[0mall\u001b[0m\u001b[1;33m(\u001b[0m\u001b[0mself\u001b[0m\u001b[1;33m.\u001b[0m\u001b[0mn_splits\u001b[0m \u001b[1;33m>\u001b[0m \u001b[0my_counts\u001b[0m\u001b[1;33m)\u001b[0m\u001b[1;33m:\u001b[0m\u001b[1;33m\n",
            "\u001b[0m            \u001b[1;32mraise\u001b[0m \u001b[0mValueError\u001b[0m\u001b[1;33m(\u001b[0m\u001b[1;33m\n",
            "\u001b[0m                \u001b[1;34m\"n_splits=%d cannot be greater than the\"\u001b[0m\u001b[1;33m\n",
            "\u001b[0m                \u001b[1;34m\" number of members in each class.\"\u001b[0m \u001b[1;33m%\u001b[0m \u001b[1;33m(\u001b[0m\u001b[0mself\u001b[0m\u001b[1;33m.\u001b[0m\u001b[0mn_splits\u001b[0m\u001b[1;33m)\u001b[0m\u001b[1;33m\n",
            "\u001b[0m            \u001b[1;33m)\u001b[0m\u001b[1;33m\n",
            "\u001b[0m        \u001b[1;32mif\u001b[0m \u001b[0mself\u001b[0m\u001b[1;33m.\u001b[0m\u001b[0mn_splits\u001b[0m \u001b[1;33m>\u001b[0m \u001b[0mmin_groups\u001b[0m\u001b[1;33m:\u001b[0m\u001b[1;33m\n",
            "\u001b[0m            \u001b[0mwarnings\u001b[0m\u001b[1;33m.\u001b[0m\u001b[0mwarn\u001b[0m\u001b[1;33m(\u001b[0m\u001b[1;33m\n",
            "\u001b[0m                \u001b[1;34m\"The least populated class in y has only %d\"\u001b[0m\u001b[1;33m\n",
            "\u001b[0m                \u001b[1;34m\" members, which is less than n_splits=%d.\"\u001b[0m\u001b[1;33m\n",
            "\u001b[0m                \u001b[1;33m%\u001b[0m \u001b[1;33m(\u001b[0m\u001b[0mmin_groups\u001b[0m\u001b[1;33m,\u001b[0m \u001b[0mself\u001b[0m\u001b[1;33m.\u001b[0m\u001b[0mn_splits\u001b[0m\u001b[1;33m)\u001b[0m\u001b[1;33m,\u001b[0m\u001b[1;33m\n",
            "\u001b[0m                \u001b[0mUserWarning\u001b[0m\u001b[1;33m,\u001b[0m\u001b[1;33m\n",
            "\u001b[0m            \u001b[1;33m)\u001b[0m\u001b[1;33m\n",
            "\u001b[0m\u001b[1;33m\n",
            "\u001b[0m        \u001b[1;31m# Determine the optimal number of samples from each class in each fold,\u001b[0m\u001b[1;33m\n",
            "\u001b[0m        \u001b[1;31m# using round robin over the sorted y. (This can be done direct from\u001b[0m\u001b[1;33m\n",
            "\u001b[0m        \u001b[1;31m# counts, but that code is unreadable.)\u001b[0m\u001b[1;33m\n",
            "\u001b[0m        \u001b[0my_order\u001b[0m \u001b[1;33m=\u001b[0m \u001b[0mnp\u001b[0m\u001b[1;33m.\u001b[0m\u001b[0msort\u001b[0m\u001b[1;33m(\u001b[0m\u001b[0my_encoded\u001b[0m\u001b[1;33m)\u001b[0m\u001b[1;33m\n",
            "\u001b[0m        \u001b[0mallocation\u001b[0m \u001b[1;33m=\u001b[0m \u001b[0mnp\u001b[0m\u001b[1;33m.\u001b[0m\u001b[0masarray\u001b[0m\u001b[1;33m(\u001b[0m\u001b[1;33m\n",
            "\u001b[0m            \u001b[1;33m[\u001b[0m\u001b[1;33m\n",
            "\u001b[0m                \u001b[0mnp\u001b[0m\u001b[1;33m.\u001b[0m\u001b[0mbincount\u001b[0m\u001b[1;33m(\u001b[0m\u001b[0my_order\u001b[0m\u001b[1;33m[\u001b[0m\u001b[0mi\u001b[0m \u001b[1;33m:\u001b[0m\u001b[1;33m:\u001b[0m \u001b[0mself\u001b[0m\u001b[1;33m.\u001b[0m\u001b[0mn_splits\u001b[0m\u001b[1;33m]\u001b[0m\u001b[1;33m,\u001b[0m \u001b[0mminlength\u001b[0m\u001b[1;33m=\u001b[0m\u001b[0mn_classes\u001b[0m\u001b[1;33m)\u001b[0m\u001b[1;33m\n",
            "\u001b[0m                \u001b[1;32mfor\u001b[0m \u001b[0mi\u001b[0m \u001b[1;32min\u001b[0m \u001b[0mrange\u001b[0m\u001b[1;33m(\u001b[0m\u001b[0mself\u001b[0m\u001b[1;33m.\u001b[0m\u001b[0mn_splits\u001b[0m\u001b[1;33m)\u001b[0m\u001b[1;33m\n",
            "\u001b[0m            \u001b[1;33m]\u001b[0m\u001b[1;33m\n",
            "\u001b[0m        \u001b[1;33m)\u001b[0m\u001b[1;33m\n",
            "\u001b[0m\u001b[1;33m\n",
            "\u001b[0m        \u001b[1;31m# To maintain the data order dependencies as best as possible within\u001b[0m\u001b[1;33m\n",
            "\u001b[0m        \u001b[1;31m# the stratification constraint, we assign samples from each class in\u001b[0m\u001b[1;33m\n",
            "\u001b[0m        \u001b[1;31m# blocks (and then mess that up when shuffle=True).\u001b[0m\u001b[1;33m\n",
            "\u001b[0m        \u001b[0mtest_folds\u001b[0m \u001b[1;33m=\u001b[0m \u001b[0mnp\u001b[0m\u001b[1;33m.\u001b[0m\u001b[0mempty\u001b[0m\u001b[1;33m(\u001b[0m\u001b[0mlen\u001b[0m\u001b[1;33m(\u001b[0m\u001b[0my\u001b[0m\u001b[1;33m)\u001b[0m\u001b[1;33m,\u001b[0m \u001b[0mdtype\u001b[0m\u001b[1;33m=\u001b[0m\u001b[1;34m\"i\"\u001b[0m\u001b[1;33m)\u001b[0m\u001b[1;33m\n",
            "\u001b[0m        \u001b[1;32mfor\u001b[0m \u001b[0mk\u001b[0m \u001b[1;32min\u001b[0m \u001b[0mrange\u001b[0m\u001b[1;33m(\u001b[0m\u001b[0mn_classes\u001b[0m\u001b[1;33m)\u001b[0m\u001b[1;33m:\u001b[0m\u001b[1;33m\n",
            "\u001b[0m            \u001b[1;31m# since the kth column of allocation stores the number of samples\u001b[0m\u001b[1;33m\n",
            "\u001b[0m            \u001b[1;31m# of class k in each test set, this generates blocks of fold\u001b[0m\u001b[1;33m\n",
            "\u001b[0m            \u001b[1;31m# indices corresponding to the allocation for class k.\u001b[0m\u001b[1;33m\n",
            "\u001b[0m            \u001b[0mfolds_for_class\u001b[0m \u001b[1;33m=\u001b[0m \u001b[0mnp\u001b[0m\u001b[1;33m.\u001b[0m\u001b[0marange\u001b[0m\u001b[1;33m(\u001b[0m\u001b[0mself\u001b[0m\u001b[1;33m.\u001b[0m\u001b[0mn_splits\u001b[0m\u001b[1;33m)\u001b[0m\u001b[1;33m.\u001b[0m\u001b[0mrepeat\u001b[0m\u001b[1;33m(\u001b[0m\u001b[0mallocation\u001b[0m\u001b[1;33m[\u001b[0m\u001b[1;33m:\u001b[0m\u001b[1;33m,\u001b[0m \u001b[0mk\u001b[0m\u001b[1;33m]\u001b[0m\u001b[1;33m)\u001b[0m\u001b[1;33m\n",
            "\u001b[0m            \u001b[1;32mif\u001b[0m \u001b[0mself\u001b[0m\u001b[1;33m.\u001b[0m\u001b[0mshuffle\u001b[0m\u001b[1;33m:\u001b[0m\u001b[1;33m\n",
            "\u001b[0m                \u001b[0mrng\u001b[0m\u001b[1;33m.\u001b[0m\u001b[0mshuffle\u001b[0m\u001b[1;33m(\u001b[0m\u001b[0mfolds_for_class\u001b[0m\u001b[1;33m)\u001b[0m\u001b[1;33m\n",
            "\u001b[0m            \u001b[0mtest_folds\u001b[0m\u001b[1;33m[\u001b[0m\u001b[0my_encoded\u001b[0m \u001b[1;33m==\u001b[0m \u001b[0mk\u001b[0m\u001b[1;33m]\u001b[0m \u001b[1;33m=\u001b[0m \u001b[0mfolds_for_class\u001b[0m\u001b[1;33m\n",
            "\u001b[0m        \u001b[1;32mreturn\u001b[0m \u001b[0mtest_folds\u001b[0m\u001b[1;33m\n",
            "\u001b[0m\u001b[1;33m\n",
            "\u001b[0m    \u001b[1;32mdef\u001b[0m \u001b[0m_iter_test_masks\u001b[0m\u001b[1;33m(\u001b[0m\u001b[0mself\u001b[0m\u001b[1;33m,\u001b[0m \u001b[0mX\u001b[0m\u001b[1;33m,\u001b[0m \u001b[0my\u001b[0m\u001b[1;33m=\u001b[0m\u001b[1;32mNone\u001b[0m\u001b[1;33m,\u001b[0m \u001b[0mgroups\u001b[0m\u001b[1;33m=\u001b[0m\u001b[1;32mNone\u001b[0m\u001b[1;33m)\u001b[0m\u001b[1;33m:\u001b[0m\u001b[1;33m\n",
            "\u001b[0m        \u001b[0mtest_folds\u001b[0m \u001b[1;33m=\u001b[0m \u001b[0mself\u001b[0m\u001b[1;33m.\u001b[0m\u001b[0m_make_test_folds\u001b[0m\u001b[1;33m(\u001b[0m\u001b[0mX\u001b[0m\u001b[1;33m,\u001b[0m \u001b[0my\u001b[0m\u001b[1;33m)\u001b[0m\u001b[1;33m\n",
            "\u001b[0m        \u001b[1;32mfor\u001b[0m \u001b[0mi\u001b[0m \u001b[1;32min\u001b[0m \u001b[0mrange\u001b[0m\u001b[1;33m(\u001b[0m\u001b[0mself\u001b[0m\u001b[1;33m.\u001b[0m\u001b[0mn_splits\u001b[0m\u001b[1;33m)\u001b[0m\u001b[1;33m:\u001b[0m\u001b[1;33m\n",
            "\u001b[0m            \u001b[1;32myield\u001b[0m \u001b[0mtest_folds\u001b[0m \u001b[1;33m==\u001b[0m \u001b[0mi\u001b[0m\u001b[1;33m\n",
            "\u001b[0m\u001b[1;33m\n",
            "\u001b[0m    \u001b[1;32mdef\u001b[0m \u001b[0msplit\u001b[0m\u001b[1;33m(\u001b[0m\u001b[0mself\u001b[0m\u001b[1;33m,\u001b[0m \u001b[0mX\u001b[0m\u001b[1;33m,\u001b[0m \u001b[0my\u001b[0m\u001b[1;33m,\u001b[0m \u001b[0mgroups\u001b[0m\u001b[1;33m=\u001b[0m\u001b[1;32mNone\u001b[0m\u001b[1;33m)\u001b[0m\u001b[1;33m:\u001b[0m\u001b[1;33m\n",
            "\u001b[0m        \u001b[1;34m\"\"\"Generate indices to split data into training and test set.\n",
            "\n",
            "        Parameters\n",
            "        ----------\n",
            "        X : array-like of shape (n_samples, n_features)\n",
            "            Training data, where `n_samples` is the number of samples\n",
            "            and `n_features` is the number of features.\n",
            "\n",
            "            Note that providing ``y`` is sufficient to generate the splits and\n",
            "            hence ``np.zeros(n_samples)`` may be used as a placeholder for\n",
            "            ``X`` instead of actual training data.\n",
            "\n",
            "        y : array-like of shape (n_samples,)\n",
            "            The target variable for supervised learning problems.\n",
            "            Stratification is done based on the y labels.\n",
            "\n",
            "        groups : object\n",
            "            Always ignored, exists for compatibility.\n",
            "\n",
            "        Yields\n",
            "        ------\n",
            "        train : ndarray\n",
            "            The training set indices for that split.\n",
            "\n",
            "        test : ndarray\n",
            "            The testing set indices for that split.\n",
            "\n",
            "        Notes\n",
            "        -----\n",
            "        Randomized CV splitters may return different results for each call of\n",
            "        split. You can make the results identical by setting `random_state`\n",
            "        to an integer.\n",
            "        \"\"\"\u001b[0m\u001b[1;33m\n",
            "\u001b[0m        \u001b[0my\u001b[0m \u001b[1;33m=\u001b[0m \u001b[0mcheck_array\u001b[0m\u001b[1;33m(\u001b[0m\u001b[0my\u001b[0m\u001b[1;33m,\u001b[0m \u001b[0minput_name\u001b[0m\u001b[1;33m=\u001b[0m\u001b[1;34m\"y\"\u001b[0m\u001b[1;33m,\u001b[0m \u001b[0mensure_2d\u001b[0m\u001b[1;33m=\u001b[0m\u001b[1;32mFalse\u001b[0m\u001b[1;33m,\u001b[0m \u001b[0mdtype\u001b[0m\u001b[1;33m=\u001b[0m\u001b[1;32mNone\u001b[0m\u001b[1;33m)\u001b[0m\u001b[1;33m\n",
            "\u001b[0m        \u001b[1;32mreturn\u001b[0m \u001b[0msuper\u001b[0m\u001b[1;33m(\u001b[0m\u001b[1;33m)\u001b[0m\u001b[1;33m.\u001b[0m\u001b[0msplit\u001b[0m\u001b[1;33m(\u001b[0m\u001b[0mX\u001b[0m\u001b[1;33m,\u001b[0m \u001b[0my\u001b[0m\u001b[1;33m,\u001b[0m \u001b[0mgroups\u001b[0m\u001b[1;33m)\u001b[0m\u001b[1;33m\u001b[0m\u001b[1;33m\u001b[0m\u001b[0m\n",
            "\u001b[1;31mFile:\u001b[0m           c:\\users\\imargolin\\anaconda3\\envs\\ucp\\lib\\site-packages\\sklearn\\model_selection\\_split.py\n",
            "\u001b[1;31mType:\u001b[0m           ABCMeta\n",
            "\u001b[1;31mSubclasses:\u001b[0m     "
          ]
        }
      ],
      "source": [
        "StratifiedKFold??"
      ]
    },
    {
      "cell_type": "code",
      "execution_count": null,
      "id": "c80c7439",
      "metadata": {},
      "outputs": [],
      "source": [
        "def run_constrained_experiment(clf:Constrained, X, y, cost_matrix, constraint, random_state=42):\n",
        "\n",
        "    fit_params = {}\n",
        "    out = []\n",
        "\n",
        "    kf = StratifiedKFold(n_splits=5, shuffle=True, random_state=random_state)\n",
        "    #kf.get_n_splits(X)\n",
        "    for (train_index, test_index) in kf.split(X, y):\n",
        "        print(\"Train:\", len(train_index), \"TEST:\", len(test_index))\n",
        "        X_train, X_test = X[train_index], X[test_index]\n",
        "        y_train, y_test = y[train_index], y[test_index]\n",
        "\n",
        "        if isinstance(clf, CostSensitiveDecisionTreeClassifier):\n",
        "            #If type of CostSensitiveDecisionTreeClassifier, then create a cost matrix for the training set\n",
        "            fit_params['cost_mat'] = prepare_for_cost_cle(len(X_train), cost_matrix)\n",
        "\n",
        "        clf.fit(X_train, y_train, **fit_params) \n",
        "        y_pred_proba = clf.predict_proba(X_test)[:, 1] #get the probability of the positive class\n",
        "\n",
        "        if constraint:\n",
        "            y_pred = prediction_up_to_constraint(y_pred_proba, constraint) \n",
        "        else:\n",
        "            y_pred = clf.predict(X_test)\n",
        "        \n",
        "        out.append(evaluate(y_test, y_pred, cost_matrix))\n",
        "    return out"
      ]
    },
    {
      "cell_type": "code",
      "execution_count": 56,
      "id": "5ec36bc6",
      "metadata": {},
      "outputs": [
        {
          "data": {
            "text/html": [
              "<div>\n",
              "<style scoped>\n",
              "    .dataframe tbody tr th:only-of-type {\n",
              "        vertical-align: middle;\n",
              "    }\n",
              "\n",
              "    .dataframe tbody tr th {\n",
              "        vertical-align: top;\n",
              "    }\n",
              "\n",
              "    .dataframe thead th {\n",
              "        text-align: right;\n",
              "    }\n",
              "</style>\n",
              "<table border=\"1\" class=\"dataframe\">\n",
              "  <thead>\n",
              "    <tr style=\"text-align: right;\">\n",
              "      <th></th>\n",
              "      <th>cost</th>\n",
              "      <th>accuracy</th>\n",
              "      <th>precision</th>\n",
              "      <th>recall</th>\n",
              "      <th>f1</th>\n",
              "    </tr>\n",
              "  </thead>\n",
              "  <tbody>\n",
              "    <tr>\n",
              "      <th>10</th>\n",
              "      <td>1039.0</td>\n",
              "      <td>0.849866</td>\n",
              "      <td>0.100000</td>\n",
              "      <td>0.009615</td>\n",
              "      <td>0.017544</td>\n",
              "    </tr>\n",
              "    <tr>\n",
              "      <th>20</th>\n",
              "      <td>1049.0</td>\n",
              "      <td>0.836461</td>\n",
              "      <td>0.050000</td>\n",
              "      <td>0.009615</td>\n",
              "      <td>0.016129</td>\n",
              "    </tr>\n",
              "    <tr>\n",
              "      <th>30</th>\n",
              "      <td>1048.0</td>\n",
              "      <td>0.825737</td>\n",
              "      <td>0.066667</td>\n",
              "      <td>0.019231</td>\n",
              "      <td>0.029851</td>\n",
              "    </tr>\n",
              "    <tr>\n",
              "      <th>40</th>\n",
              "      <td>1058.0</td>\n",
              "      <td>0.812332</td>\n",
              "      <td>0.050000</td>\n",
              "      <td>0.019231</td>\n",
              "      <td>0.027778</td>\n",
              "    </tr>\n",
              "    <tr>\n",
              "      <th>50</th>\n",
              "      <td>1068.0</td>\n",
              "      <td>0.798928</td>\n",
              "      <td>0.040000</td>\n",
              "      <td>0.019231</td>\n",
              "      <td>0.025974</td>\n",
              "    </tr>\n",
              "    <tr>\n",
              "      <th>60</th>\n",
              "      <td>1067.0</td>\n",
              "      <td>0.788204</td>\n",
              "      <td>0.050000</td>\n",
              "      <td>0.028846</td>\n",
              "      <td>0.036585</td>\n",
              "    </tr>\n",
              "    <tr>\n",
              "      <th>70</th>\n",
              "      <td>1055.0</td>\n",
              "      <td>0.780161</td>\n",
              "      <td>0.071429</td>\n",
              "      <td>0.048077</td>\n",
              "      <td>0.057471</td>\n",
              "    </tr>\n",
              "    <tr>\n",
              "      <th>80</th>\n",
              "      <td>1054.0</td>\n",
              "      <td>0.769437</td>\n",
              "      <td>0.075000</td>\n",
              "      <td>0.057692</td>\n",
              "      <td>0.065217</td>\n",
              "    </tr>\n",
              "    <tr>\n",
              "      <th>90</th>\n",
              "      <td>1042.0</td>\n",
              "      <td>0.761394</td>\n",
              "      <td>0.088889</td>\n",
              "      <td>0.076923</td>\n",
              "      <td>0.082474</td>\n",
              "    </tr>\n",
              "  </tbody>\n",
              "</table>\n",
              "</div>"
            ],
            "text/plain": [
              "      cost  accuracy  precision    recall        f1\n",
              "10  1039.0  0.849866   0.100000  0.009615  0.017544\n",
              "20  1049.0  0.836461   0.050000  0.009615  0.016129\n",
              "30  1048.0  0.825737   0.066667  0.019231  0.029851\n",
              "40  1058.0  0.812332   0.050000  0.019231  0.027778\n",
              "50  1068.0  0.798928   0.040000  0.019231  0.025974\n",
              "60  1067.0  0.788204   0.050000  0.028846  0.036585\n",
              "70  1055.0  0.780161   0.071429  0.048077  0.057471\n",
              "80  1054.0  0.769437   0.075000  0.057692  0.065217\n",
              "90  1042.0  0.761394   0.088889  0.076923  0.082474"
            ]
          },
          "execution_count": 56,
          "metadata": {},
          "output_type": "execute_result"
        }
      ],
      "source": [
        "pd.DataFrame(out).T"
      ]
    },
    {
      "cell_type": "code",
      "execution_count": 31,
      "id": "95285d14",
      "metadata": {},
      "outputs": [
        {
          "data": {
            "text/html": [
              "<style>#sk-container-id-2 {color: black;}#sk-container-id-2 pre{padding: 0;}#sk-container-id-2 div.sk-toggleable {background-color: white;}#sk-container-id-2 label.sk-toggleable__label {cursor: pointer;display: block;width: 100%;margin-bottom: 0;padding: 0.3em;box-sizing: border-box;text-align: center;}#sk-container-id-2 label.sk-toggleable__label-arrow:before {content: \"▸\";float: left;margin-right: 0.25em;color: #696969;}#sk-container-id-2 label.sk-toggleable__label-arrow:hover:before {color: black;}#sk-container-id-2 div.sk-estimator:hover label.sk-toggleable__label-arrow:before {color: black;}#sk-container-id-2 div.sk-toggleable__content {max-height: 0;max-width: 0;overflow: hidden;text-align: left;background-color: #f0f8ff;}#sk-container-id-2 div.sk-toggleable__content pre {margin: 0.2em;color: black;border-radius: 0.25em;background-color: #f0f8ff;}#sk-container-id-2 input.sk-toggleable__control:checked~div.sk-toggleable__content {max-height: 200px;max-width: 100%;overflow: auto;}#sk-container-id-2 input.sk-toggleable__control:checked~label.sk-toggleable__label-arrow:before {content: \"▾\";}#sk-container-id-2 div.sk-estimator input.sk-toggleable__control:checked~label.sk-toggleable__label {background-color: #d4ebff;}#sk-container-id-2 div.sk-label input.sk-toggleable__control:checked~label.sk-toggleable__label {background-color: #d4ebff;}#sk-container-id-2 input.sk-hidden--visually {border: 0;clip: rect(1px 1px 1px 1px);clip: rect(1px, 1px, 1px, 1px);height: 1px;margin: -1px;overflow: hidden;padding: 0;position: absolute;width: 1px;}#sk-container-id-2 div.sk-estimator {font-family: monospace;background-color: #f0f8ff;border: 1px dotted black;border-radius: 0.25em;box-sizing: border-box;margin-bottom: 0.5em;}#sk-container-id-2 div.sk-estimator:hover {background-color: #d4ebff;}#sk-container-id-2 div.sk-parallel-item::after {content: \"\";width: 100%;border-bottom: 1px solid gray;flex-grow: 1;}#sk-container-id-2 div.sk-label:hover label.sk-toggleable__label {background-color: #d4ebff;}#sk-container-id-2 div.sk-serial::before {content: \"\";position: absolute;border-left: 1px solid gray;box-sizing: border-box;top: 0;bottom: 0;left: 50%;z-index: 0;}#sk-container-id-2 div.sk-serial {display: flex;flex-direction: column;align-items: center;background-color: white;padding-right: 0.2em;padding-left: 0.2em;position: relative;}#sk-container-id-2 div.sk-item {position: relative;z-index: 1;}#sk-container-id-2 div.sk-parallel {display: flex;align-items: stretch;justify-content: center;background-color: white;position: relative;}#sk-container-id-2 div.sk-item::before, #sk-container-id-2 div.sk-parallel-item::before {content: \"\";position: absolute;border-left: 1px solid gray;box-sizing: border-box;top: 0;bottom: 0;left: 50%;z-index: -1;}#sk-container-id-2 div.sk-parallel-item {display: flex;flex-direction: column;z-index: 1;position: relative;background-color: white;}#sk-container-id-2 div.sk-parallel-item:first-child::after {align-self: flex-end;width: 50%;}#sk-container-id-2 div.sk-parallel-item:last-child::after {align-self: flex-start;width: 50%;}#sk-container-id-2 div.sk-parallel-item:only-child::after {width: 0;}#sk-container-id-2 div.sk-dashed-wrapped {border: 1px dashed gray;margin: 0 0.4em 0.5em 0.4em;box-sizing: border-box;padding-bottom: 0.4em;background-color: white;}#sk-container-id-2 div.sk-label label {font-family: monospace;font-weight: bold;display: inline-block;line-height: 1.2em;}#sk-container-id-2 div.sk-label-container {text-align: center;}#sk-container-id-2 div.sk-container {/* jupyter's `normalize.less` sets `[hidden] { display: none; }` but bootstrap.min.css set `[hidden] { display: none !important; }` so we also need the `!important` here to be able to override the default hidden behavior on the sphinx rendered scikit-learn.org. See: https://github.com/scikit-learn/scikit-learn/issues/21755 */display: inline-block !important;position: relative;}#sk-container-id-2 div.sk-text-repr-fallback {display: none;}</style><div id=\"sk-container-id-2\" class=\"sk-top-container\"><div class=\"sk-text-repr-fallback\"><pre>ConstrainedClassifier(constraint=0.0938337801608579,\n",
              "                      model=CostSensitiveDecisionTreeClassifier(max_depth=5,\n",
              "                                                                min_samples_leaf=15))</pre><b>In a Jupyter environment, please rerun this cell to show the HTML representation or trust the notebook. <br />On GitHub, the HTML representation is unable to render, please try loading this page with nbviewer.org.</b></div><div class=\"sk-container\" hidden><div class=\"sk-item sk-dashed-wrapped\"><div class=\"sk-label-container\"><div class=\"sk-label sk-toggleable\"><input class=\"sk-toggleable__control sk-hidden--visually\" id=\"sk-estimator-id-4\" type=\"checkbox\" ><label for=\"sk-estimator-id-4\" class=\"sk-toggleable__label sk-toggleable__label-arrow\">ConstrainedClassifier</label><div class=\"sk-toggleable__content\"><pre>ConstrainedClassifier(constraint=0.0938337801608579,\n",
              "                      model=CostSensitiveDecisionTreeClassifier(max_depth=5,\n",
              "                                                                min_samples_leaf=15))</pre></div></div></div><div class=\"sk-parallel\"><div class=\"sk-parallel-item\"><div class=\"sk-item\"><div class=\"sk-label-container\"><div class=\"sk-label sk-toggleable\"><input class=\"sk-toggleable__control sk-hidden--visually\" id=\"sk-estimator-id-5\" type=\"checkbox\" ><label for=\"sk-estimator-id-5\" class=\"sk-toggleable__label sk-toggleable__label-arrow\">model: CostSensitiveDecisionTreeClassifier</label><div class=\"sk-toggleable__content\"><pre>CostSensitiveDecisionTreeClassifier(max_depth=5, min_samples_leaf=15)</pre></div></div></div><div class=\"sk-serial\"><div class=\"sk-item\"><div class=\"sk-estimator sk-toggleable\"><input class=\"sk-toggleable__control sk-hidden--visually\" id=\"sk-estimator-id-6\" type=\"checkbox\" ><label for=\"sk-estimator-id-6\" class=\"sk-toggleable__label sk-toggleable__label-arrow\">CostSensitiveDecisionTreeClassifier</label><div class=\"sk-toggleable__content\"><pre>CostSensitiveDecisionTreeClassifier(max_depth=5, min_samples_leaf=15)</pre></div></div></div></div></div></div></div></div></div></div>"
            ],
            "text/plain": [
              "ConstrainedClassifier(constraint=0.0938337801608579,\n",
              "                      model=CostSensitiveDecisionTreeClassifier(max_depth=5,\n",
              "                                                                min_samples_leaf=15))"
            ]
          },
          "execution_count": 31,
          "metadata": {},
          "output_type": "execute_result"
        }
      ],
      "source": [
        "cs_dt = ConstrainedClassifier(CostSensitiveDecisionTreeClassifier(**cs_best_params), constraint=constraint)\n",
        "cs_dt.fit(X_train, y_train, cost_mat = prepare_for_cost_cle(len(X_train), COST_MATRIX))\n"
      ]
    },
    {
      "cell_type": "code",
      "execution_count": 33,
      "id": "fa7c1273",
      "metadata": {},
      "outputs": [
        {
          "data": {
            "text/plain": [
              "array([1., 0., 1., 1., 1., 1., 1., 1., 1., 0., 0., 0., 1., 1., 1., 0., 1.,\n",
              "       0., 1., 1., 1., 1., 0., 1., 0., 0., 0., 0., 0., 0., 1., 0., 0., 0.,\n",
              "       0., 0., 0., 0., 0., 0., 0., 0., 1., 0., 0., 0., 0., 0., 1., 0., 0.,\n",
              "       0., 0., 0., 0., 1., 0., 0., 0., 0., 0., 0., 0., 0., 0., 0., 0., 0.,\n",
              "       0., 0., 0., 0., 1., 1., 1., 0., 0., 0., 0., 0., 0., 1., 0., 0., 0.,\n",
              "       0., 0., 0., 0., 0., 0., 1., 0., 0., 0., 0., 0., 0., 0., 0., 0., 1.,\n",
              "       0., 0., 0., 0., 0., 0., 0., 0., 0., 0., 0., 0., 0., 0., 0., 0., 0.,\n",
              "       0., 0., 0., 0., 0., 0., 0., 0., 0., 0., 0., 0., 0., 0., 0., 0., 0.,\n",
              "       0., 0., 0., 0., 1., 0., 0., 0., 0., 0., 0., 0., 0., 0., 0., 0., 0.,\n",
              "       0., 0., 0., 0., 0., 0., 0., 0., 0., 0., 0., 0., 0., 1., 0., 0., 0.,\n",
              "       0., 0., 0., 0., 0., 0., 0., 0., 0., 0., 0., 0., 0., 0., 0., 0., 0.,\n",
              "       0., 0., 0., 0., 0., 0., 0., 0., 0., 0., 1., 1., 0., 0., 1., 0., 0.,\n",
              "       0., 0., 0., 0., 0., 0., 0., 0., 0., 0., 0., 0., 1., 0., 0., 0., 0.,\n",
              "       0., 0., 0., 0., 0., 0., 0., 0., 0., 0., 0., 0., 1., 0., 0., 0., 0.,\n",
              "       0., 0., 0., 0., 0., 0., 0., 0., 0., 1., 0., 0., 0., 0., 0., 0., 0.,\n",
              "       0., 0., 0., 0., 0., 0., 0., 0., 0., 0., 0., 0., 0., 0., 0., 0., 0.,\n",
              "       0., 0., 0., 1., 0., 0., 0., 0., 0., 0., 0., 0., 0., 0., 0., 1., 1.,\n",
              "       0., 0., 0., 0., 0., 0., 0., 0., 0., 0., 0., 0., 0., 0., 1., 0., 0.,\n",
              "       0., 0., 0., 1., 0., 0., 0., 0., 0., 0., 0., 0., 0., 0., 0., 0., 0.,\n",
              "       0., 1., 0., 0., 0., 0., 0., 0., 0., 0., 1., 1., 0., 0., 1., 0., 0.,\n",
              "       0., 0., 0., 0., 0., 1., 0., 0., 0., 0., 0., 0., 0., 0., 0., 0., 0.,\n",
              "       0., 0., 0., 0., 0., 0., 0., 0., 0., 0., 0., 0., 0., 0., 0., 0., 0.,\n",
              "       0., 0., 0., 0., 0., 0., 0., 0., 1., 0., 0., 0., 0., 0., 1., 1., 0.,\n",
              "       0., 0., 0., 0., 0., 0., 0., 0., 0., 0., 0., 0., 0., 0., 0., 0., 0.,\n",
              "       1., 0., 0., 0., 0., 0., 1., 0., 0., 0., 0., 0., 0., 0., 0., 0., 0.,\n",
              "       0., 0., 0., 0., 0., 0., 0., 0., 1., 0., 0., 0., 0., 0., 0., 0., 0.,\n",
              "       0., 0., 0., 0., 0., 0., 0., 0., 0., 0., 0., 0., 0., 0., 0., 0., 0.,\n",
              "       0., 0., 0., 0., 0., 0., 0., 0., 1., 0., 0., 0., 1., 0., 0., 0., 0.,\n",
              "       1., 0., 0., 0., 0., 0., 0., 0., 0., 0., 0., 0., 0., 0., 0., 0., 1.,\n",
              "       0., 0., 0., 0., 0., 0., 0., 0., 0., 0., 0., 0., 0., 0., 0., 0., 0.,\n",
              "       0., 0., 0., 0., 1., 0., 0., 0., 0., 0., 0., 0., 0., 0., 0., 0., 0.,\n",
              "       0., 0., 0., 0., 0., 0., 0., 0., 0., 0., 0., 0., 0., 0., 0., 0., 0.,\n",
              "       0., 0., 0., 0., 0., 0., 0., 0., 0., 0., 0., 0., 0., 0., 0., 0., 0.,\n",
              "       0., 0., 0., 0., 0., 0., 0., 0., 0., 0., 0., 0., 0., 0., 0., 0., 1.,\n",
              "       0., 0., 0., 1., 0., 0., 0., 0., 0., 0., 0., 0., 0., 1., 0., 0., 0.,\n",
              "       1., 0., 0., 0., 0., 0., 0., 0., 0., 0., 0., 1., 0., 0., 0., 0., 0.,\n",
              "       0., 0., 0., 0., 0., 0., 0., 0., 0., 0., 0., 0., 0., 0., 0., 0., 0.,\n",
              "       0., 0., 0., 0., 0., 0., 0., 0., 0., 0., 0., 0., 1., 0., 0., 0., 0.,\n",
              "       0., 0., 0., 0., 0., 0., 1., 1., 0., 0., 0., 0., 0., 0., 0., 0., 0.,\n",
              "       0., 0., 0., 0., 0., 0., 0., 0., 0., 1., 0., 0., 0., 0., 1., 0., 0.,\n",
              "       0., 1., 0., 0., 0., 0., 0., 0., 0., 0., 0., 0., 0., 1., 0., 0., 0.,\n",
              "       0., 0., 0., 0., 0., 0., 0., 0., 0., 0., 0., 0., 0., 0., 0., 0., 0.,\n",
              "       0., 1., 0., 0., 0., 0., 0., 0., 1., 0., 0., 0., 0., 0., 0., 0., 0.,\n",
              "       0., 0., 0., 0., 0., 0., 0., 0., 0., 0., 0., 0., 0., 0., 0.])"
            ]
          },
          "execution_count": 33,
          "metadata": {},
          "output_type": "execute_result"
        }
      ],
      "source": [
        "cs_dt.predict_constrained(X_test)"
      ]
    },
    {
      "cell_type": "code",
      "execution_count": null,
      "id": "8595dda5",
      "metadata": {},
      "outputs": [],
      "source": []
    },
    {
      "cell_type": "code",
      "execution_count": null,
      "id": "0f7bef91",
      "metadata": {},
      "outputs": [],
      "source": []
    },
    {
      "cell_type": "code",
      "execution_count": null,
      "id": "0668a83d",
      "metadata": {},
      "outputs": [],
      "source": []
    },
    {
      "cell_type": "code",
      "execution_count": 28,
      "id": "93181596",
      "metadata": {},
      "outputs": [
        {
          "data": {
            "text/plain": [
              "50.0"
            ]
          },
          "execution_count": 28,
          "metadata": {},
          "output_type": "execute_result"
        }
      ],
      "source": [
        "dt.prediction_up_to_constraint(X_test).sum()"
      ]
    },
    {
      "cell_type": "code",
      "execution_count": 120,
      "id": "3118880e",
      "metadata": {},
      "outputs": [
        {
          "name": "stdout",
          "output_type": "stream",
          "text": [
            "line2\n"
          ]
        }
      ],
      "source": [
        "print(\"line1\", end = \"\\r\")\n",
        "print(\"line2\")"
      ]
    },
    {
      "cell_type": "code",
      "execution_count": 149,
      "id": "bb3fb09c",
      "metadata": {},
      "outputs": [],
      "source": []
    },
    {
      "cell_type": "code",
      "execution_count": 135,
      "id": "3f9178aa",
      "metadata": {},
      "outputs": [
        {
          "name": "stdout",
          "output_type": "stream",
          "text": [
            "Threshold: 0.33 Effective Threshold: 0.46 Cost False Positive: 50.290\n",
            "DONE\n",
            "Threshold: 0.33\n",
            "Effective threshold: 0.33\n",
            "Current cfp:  50.048828125\n",
            "Lower bound:  49.8046875\n",
            "Upper bound:  50.29296875\n"
          ]
        },
        {
          "data": {
            "text/html": [
              "<style>#sk-container-id-20 {color: black;}#sk-container-id-20 pre{padding: 0;}#sk-container-id-20 div.sk-toggleable {background-color: white;}#sk-container-id-20 label.sk-toggleable__label {cursor: pointer;display: block;width: 100%;margin-bottom: 0;padding: 0.3em;box-sizing: border-box;text-align: center;}#sk-container-id-20 label.sk-toggleable__label-arrow:before {content: \"▸\";float: left;margin-right: 0.25em;color: #696969;}#sk-container-id-20 label.sk-toggleable__label-arrow:hover:before {color: black;}#sk-container-id-20 div.sk-estimator:hover label.sk-toggleable__label-arrow:before {color: black;}#sk-container-id-20 div.sk-toggleable__content {max-height: 0;max-width: 0;overflow: hidden;text-align: left;background-color: #f0f8ff;}#sk-container-id-20 div.sk-toggleable__content pre {margin: 0.2em;color: black;border-radius: 0.25em;background-color: #f0f8ff;}#sk-container-id-20 input.sk-toggleable__control:checked~div.sk-toggleable__content {max-height: 200px;max-width: 100%;overflow: auto;}#sk-container-id-20 input.sk-toggleable__control:checked~label.sk-toggleable__label-arrow:before {content: \"▾\";}#sk-container-id-20 div.sk-estimator input.sk-toggleable__control:checked~label.sk-toggleable__label {background-color: #d4ebff;}#sk-container-id-20 div.sk-label input.sk-toggleable__control:checked~label.sk-toggleable__label {background-color: #d4ebff;}#sk-container-id-20 input.sk-hidden--visually {border: 0;clip: rect(1px 1px 1px 1px);clip: rect(1px, 1px, 1px, 1px);height: 1px;margin: -1px;overflow: hidden;padding: 0;position: absolute;width: 1px;}#sk-container-id-20 div.sk-estimator {font-family: monospace;background-color: #f0f8ff;border: 1px dotted black;border-radius: 0.25em;box-sizing: border-box;margin-bottom: 0.5em;}#sk-container-id-20 div.sk-estimator:hover {background-color: #d4ebff;}#sk-container-id-20 div.sk-parallel-item::after {content: \"\";width: 100%;border-bottom: 1px solid gray;flex-grow: 1;}#sk-container-id-20 div.sk-label:hover label.sk-toggleable__label {background-color: #d4ebff;}#sk-container-id-20 div.sk-serial::before {content: \"\";position: absolute;border-left: 1px solid gray;box-sizing: border-box;top: 0;bottom: 0;left: 50%;z-index: 0;}#sk-container-id-20 div.sk-serial {display: flex;flex-direction: column;align-items: center;background-color: white;padding-right: 0.2em;padding-left: 0.2em;position: relative;}#sk-container-id-20 div.sk-item {position: relative;z-index: 1;}#sk-container-id-20 div.sk-parallel {display: flex;align-items: stretch;justify-content: center;background-color: white;position: relative;}#sk-container-id-20 div.sk-item::before, #sk-container-id-20 div.sk-parallel-item::before {content: \"\";position: absolute;border-left: 1px solid gray;box-sizing: border-box;top: 0;bottom: 0;left: 50%;z-index: -1;}#sk-container-id-20 div.sk-parallel-item {display: flex;flex-direction: column;z-index: 1;position: relative;background-color: white;}#sk-container-id-20 div.sk-parallel-item:first-child::after {align-self: flex-end;width: 50%;}#sk-container-id-20 div.sk-parallel-item:last-child::after {align-self: flex-start;width: 50%;}#sk-container-id-20 div.sk-parallel-item:only-child::after {width: 0;}#sk-container-id-20 div.sk-dashed-wrapped {border: 1px dashed gray;margin: 0 0.4em 0.5em 0.4em;box-sizing: border-box;padding-bottom: 0.4em;background-color: white;}#sk-container-id-20 div.sk-label label {font-family: monospace;font-weight: bold;display: inline-block;line-height: 1.2em;}#sk-container-id-20 div.sk-label-container {text-align: center;}#sk-container-id-20 div.sk-container {/* jupyter's `normalize.less` sets `[hidden] { display: none; }` but bootstrap.min.css set `[hidden] { display: none !important; }` so we also need the `!important` here to be able to override the default hidden behavior on the sphinx rendered scikit-learn.org. See: https://github.com/scikit-learn/scikit-learn/issues/21755 */display: inline-block !important;position: relative;}#sk-container-id-20 div.sk-text-repr-fallback {display: none;}</style><div id=\"sk-container-id-20\" class=\"sk-top-container\"><div class=\"sk-text-repr-fallback\"><pre>ConstrainedCSDecisionTree(constraint=0.11160714285714286, num_iterations=60)</pre><b>In a Jupyter environment, please rerun this cell to show the HTML representation or trust the notebook. <br />On GitHub, the HTML representation is unable to render, please try loading this page with nbviewer.org.</b></div><div class=\"sk-container\" hidden><div class=\"sk-item\"><div class=\"sk-estimator sk-toggleable\"><input class=\"sk-toggleable__control sk-hidden--visually\" id=\"sk-estimator-id-20\" type=\"checkbox\" checked><label for=\"sk-estimator-id-20\" class=\"sk-toggleable__label sk-toggleable__label-arrow\">ConstrainedCSDecisionTree</label><div class=\"sk-toggleable__content\"><pre>ConstrainedCSDecisionTree(constraint=0.11160714285714286, num_iterations=60)</pre></div></div></div></div></div>"
            ],
            "text/plain": [
              "ConstrainedCSDecisionTree(constraint=0.11160714285714286, num_iterations=60)"
            ]
          },
          "execution_count": 135,
          "metadata": {},
          "output_type": "execute_result"
        }
      ],
      "source": [
        "ccsdt = ConstrainedCSDecisionTree(num_iterations=60, constraint=constraint, **cs_best_params)\n",
        "ccsdt.fit(X_train, y_train, cfn= COST_FALSE_NEGATIVE)"
      ]
    },
    {
      "cell_type": "code",
      "execution_count": 136,
      "id": "07032d38",
      "metadata": {},
      "outputs": [],
      "source": [
        "y_pred = ccsdt.predict(X_test)"
      ]
    },
    {
      "cell_type": "code",
      "execution_count": null,
      "id": "61159f16",
      "metadata": {},
      "outputs": [],
      "source": []
    },
    {
      "cell_type": "code",
      "execution_count": 141,
      "id": "c058f58d",
      "metadata": {},
      "outputs": [
        {
          "data": {
            "text/plain": [
              "{'cost': 4224,\n",
              " 'accuracy': 0.8526785714285714,\n",
              " 'precision': 0.52,\n",
              " 'recall': 0.38235294117647056,\n",
              " 'f1': 0.4406779661016949}"
            ]
          },
          "execution_count": 141,
          "metadata": {},
          "output_type": "execute_result"
        }
      ],
      "source": [
        "evaluate(y_test, y_pred, COST_MATRIX)"
      ]
    },
    {
      "cell_type": "code",
      "execution_count": 41,
      "id": "b511a685",
      "metadata": {},
      "outputs": [
        {
          "data": {
            "text/plain": [
              "<bound method CostSensitiveDecisionTreeClassifier.predict_proba of CostSensitiveDecisionTreeClassifier(max_depth=5, min_samples_leaf=15)>"
            ]
          },
          "execution_count": 41,
          "metadata": {},
          "output_type": "execute_result"
        }
      ],
      "source": [
        "ccsdt.best_model.predict_proba(X_)"
      ]
    },
    {
      "cell_type": "code",
      "execution_count": 77,
      "id": "e8365366",
      "metadata": {},
      "outputs": [
        {
          "data": {
            "text/plain": [
              "0.11607142857142858"
            ]
          },
          "execution_count": 77,
          "metadata": {},
          "output_type": "execute_result"
        }
      ],
      "source": [
        "buga = ccsdt.best_model.predict_proba(X_test)[:,1]\n",
        "t = 50/(50+COST_FALSE_NEGATIVE)\n",
        "(buga > t).mean()"
      ]
    },
    {
      "cell_type": "code",
      "execution_count": 82,
      "id": "4e96d2f2",
      "metadata": {},
      "outputs": [
        {
          "data": {
            "text/plain": [
              "array([ True,  True,  True,  True,  True,  True,  True,  True,  True,\n",
              "        True,  True,  True,  True,  True,  True,  True,  True,  True,\n",
              "        True,  True,  True,  True,  True,  True,  True,  True,  True,\n",
              "        True,  True,  True,  True,  True,  True,  True,  True,  True,\n",
              "        True,  True,  True,  True,  True,  True,  True,  True,  True,\n",
              "        True,  True,  True,  True,  True,  True,  True,  True,  True,\n",
              "        True,  True,  True,  True,  True,  True,  True,  True,  True,\n",
              "        True,  True,  True,  True,  True,  True,  True,  True,  True,\n",
              "        True,  True,  True,  True,  True,  True,  True,  True,  True,\n",
              "        True,  True,  True,  True,  True,  True,  True,  True,  True,\n",
              "        True,  True,  True,  True,  True,  True,  True,  True,  True,\n",
              "        True,  True,  True,  True,  True,  True,  True,  True,  True,\n",
              "        True,  True,  True,  True,  True,  True,  True,  True,  True,\n",
              "        True,  True,  True,  True,  True,  True,  True,  True,  True,\n",
              "        True,  True,  True,  True,  True,  True,  True,  True,  True,\n",
              "        True,  True,  True,  True,  True,  True,  True,  True,  True,\n",
              "        True,  True,  True,  True,  True,  True,  True,  True,  True,\n",
              "        True,  True,  True,  True,  True,  True,  True,  True,  True,\n",
              "        True,  True,  True,  True,  True,  True,  True,  True,  True,\n",
              "        True,  True,  True,  True,  True,  True,  True,  True,  True,\n",
              "        True,  True,  True,  True,  True,  True,  True,  True,  True,\n",
              "        True,  True,  True,  True,  True,  True,  True,  True,  True,\n",
              "        True,  True,  True,  True,  True,  True,  True,  True,  True,\n",
              "        True,  True,  True,  True,  True,  True,  True,  True,  True,\n",
              "        True,  True,  True,  True,  True,  True,  True,  True,  True,\n",
              "        True,  True,  True,  True,  True,  True,  True,  True,  True,\n",
              "        True,  True,  True,  True,  True,  True,  True,  True,  True,\n",
              "        True,  True,  True,  True,  True,  True,  True,  True,  True,\n",
              "        True,  True,  True,  True,  True,  True,  True,  True,  True,\n",
              "        True,  True,  True,  True,  True,  True,  True,  True,  True,\n",
              "        True,  True,  True,  True,  True,  True,  True,  True,  True,\n",
              "        True,  True,  True,  True,  True,  True,  True,  True,  True,\n",
              "        True,  True,  True,  True,  True,  True,  True,  True,  True,\n",
              "        True,  True,  True,  True,  True,  True,  True,  True,  True,\n",
              "        True,  True,  True,  True,  True,  True,  True,  True,  True,\n",
              "        True,  True,  True,  True,  True,  True,  True,  True,  True,\n",
              "        True,  True,  True,  True,  True,  True,  True,  True,  True,\n",
              "        True,  True,  True,  True,  True,  True,  True,  True,  True,\n",
              "        True,  True,  True,  True,  True,  True,  True,  True,  True,\n",
              "        True,  True,  True,  True,  True,  True,  True,  True,  True,\n",
              "        True,  True,  True,  True,  True,  True,  True,  True,  True,\n",
              "        True,  True,  True,  True,  True,  True,  True,  True,  True,\n",
              "        True,  True,  True,  True,  True,  True,  True,  True,  True,\n",
              "        True,  True,  True,  True,  True,  True,  True,  True,  True,\n",
              "        True,  True,  True,  True,  True,  True,  True,  True,  True,\n",
              "        True,  True,  True,  True,  True,  True,  True,  True,  True,\n",
              "        True,  True,  True,  True,  True,  True,  True,  True,  True,\n",
              "        True,  True,  True,  True,  True,  True,  True,  True,  True,\n",
              "        True,  True,  True,  True,  True,  True,  True,  True,  True,\n",
              "        True,  True,  True,  True,  True,  True,  True])"
            ]
          },
          "execution_count": 82,
          "metadata": {},
          "output_type": "execute_result"
        }
      ],
      "source": [
        "my_predict = ccsdt.best_model.predict_proba(X_test)[:,1] > t\n",
        "my_predict = my_predict.astype(int)\n",
        "\n",
        "ccsdt.best_model.predict(X_test) == my_predict"
      ]
    },
    {
      "cell_type": "code",
      "execution_count": 62,
      "id": "15b03da0",
      "metadata": {},
      "outputs": [
        {
          "data": {
            "text/plain": [
              "269    0.630435\n",
              "298    0.630435\n",
              "62     0.630435\n",
              "187    0.630435\n",
              "289    0.630435\n",
              "221    0.630435\n",
              "282    0.630435\n",
              "181    0.630435\n",
              "293    0.630435\n",
              "420    0.630435\n",
              "86     0.630435\n",
              "33     0.630435\n",
              "253    0.630435\n",
              "61     0.630435\n",
              "367    0.630435\n",
              "365    0.630435\n",
              "277    0.630435\n",
              "36     0.630435\n",
              "235    0.630435\n",
              "113    0.630435\n",
              "317    0.630435\n",
              "38     0.630435\n",
              "410    0.630435\n",
              "142    0.630435\n",
              "141    0.630435\n",
              "398    0.524272\n",
              "57     0.524272\n",
              "274    0.524272\n",
              "200    0.524272\n",
              "224    0.524272\n",
              "77     0.524272\n",
              "209    0.524272\n",
              "295    0.524272\n",
              "375    0.524272\n",
              "300    0.524272\n",
              "165    0.524272\n",
              "311    0.524272\n",
              "119    0.524272\n",
              "120    0.524272\n",
              "342    0.524272\n",
              "dtype: float64"
            ]
          },
          "execution_count": 62,
          "metadata": {},
          "output_type": "execute_result"
        }
      ],
      "source": [
        "buga.nlargest(40)"
      ]
    },
    {
      "cell_type": "code",
      "execution_count": 69,
      "id": "82169f9a",
      "metadata": {},
      "outputs": [
        {
          "data": {
            "text/plain": [
              "33     0.630435\n",
              "36     0.630435\n",
              "38     0.630435\n",
              "61     0.630435\n",
              "62     0.630435\n",
              "86     0.630435\n",
              "113    0.630435\n",
              "141    0.630435\n",
              "142    0.630435\n",
              "181    0.630435\n",
              "187    0.630435\n",
              "221    0.630435\n",
              "235    0.630435\n",
              "253    0.630435\n",
              "269    0.630435\n",
              "277    0.630435\n",
              "282    0.630435\n",
              "289    0.630435\n",
              "293    0.630435\n",
              "298    0.630435\n",
              "317    0.630435\n",
              "365    0.630435\n",
              "367    0.630435\n",
              "410    0.630435\n",
              "420    0.630435\n",
              "3      0.524272\n",
              "6      0.524272\n",
              "20     0.524272\n",
              "34     0.524272\n",
              "57     0.524272\n",
              "77     0.524272\n",
              "119    0.524272\n",
              "120    0.524272\n",
              "165    0.524272\n",
              "189    0.524272\n",
              "200    0.524272\n",
              "209    0.524272\n",
              "224    0.524272\n",
              "230    0.524272\n",
              "240    0.524272\n",
              "dtype: float64"
            ]
          },
          "execution_count": 69,
          "metadata": {},
          "output_type": "execute_result"
        }
      ],
      "source": [
        "buga = ccsdt.best_model.predict_proba(X_test)[:, 1]\n",
        "buga = pd.Series(buga)\n",
        "\n",
        "buga.nlargest(40)\n",
        "\n",
        "# buga.iloc[:52].min()"
      ]
    },
    {
      "cell_type": "code",
      "execution_count": 44,
      "id": "25b79be8",
      "metadata": {},
      "outputs": [
        {
          "data": {
            "text/plain": [
              "array([0., 0., 0., 1., 0., 0., 1., 0., 0., 0., 0., 0., 0., 0., 0., 0., 0.,\n",
              "       0., 0., 0., 1., 0., 0., 0., 0., 0., 0., 0., 0., 0., 0., 0., 0., 1.,\n",
              "       1., 0., 1., 0., 1., 0., 0., 0., 1., 0., 0., 0., 0., 0., 0., 0., 0.,\n",
              "       0., 0., 0., 0., 0., 0., 1., 0., 0., 0., 1., 1., 0., 0., 0., 0., 0.,\n",
              "       0., 0., 0., 0., 0., 0., 0., 0., 0., 1., 0., 0., 0., 0., 0., 0., 0.,\n",
              "       0., 1., 0., 0., 0., 0., 0., 0., 0., 0., 1., 0., 0., 0., 0., 0., 0.,\n",
              "       0., 0., 0., 0., 0., 0., 0., 0., 0., 0., 0., 1., 0., 0., 0., 0., 0.,\n",
              "       1., 1., 0., 0., 0., 0., 0., 0., 0., 0., 0., 0., 0., 0., 0., 0., 0.,\n",
              "       0., 0., 0., 0., 0., 1., 1., 0., 0., 0., 0., 0., 0., 0., 0., 0., 0.,\n",
              "       0., 0., 0., 0., 0., 0., 0., 0., 0., 0., 0., 0., 1., 0., 0., 0., 0.,\n",
              "       0., 0., 0., 0., 0., 0., 0., 0., 0., 0., 0., 1., 0., 0., 0., 0., 1.,\n",
              "       1., 0., 1., 0., 0., 0., 0., 0., 0., 0., 0., 0., 0., 1., 0., 0., 0.,\n",
              "       0., 0., 0., 0., 0., 1., 0., 0., 0., 0., 0., 0., 0., 0., 0., 0., 0.,\n",
              "       1., 0., 0., 1., 0., 0., 0., 0., 0., 1., 0., 0., 0., 0., 1., 0., 0.,\n",
              "       0., 0., 1., 0., 0., 0., 0., 0., 1., 1., 0., 1., 0., 0., 0., 1., 0.,\n",
              "       0., 1., 0., 0., 0., 0., 0., 0., 0., 0., 0., 0., 0., 0., 1., 0., 0.,\n",
              "       0., 0., 1., 0., 0., 1., 0., 0., 0., 0., 1., 0., 0., 0., 0., 0., 0.,\n",
              "       1., 0., 0., 0., 1., 0., 1., 0., 0., 1., 0., 1., 0., 0., 0., 0., 0.,\n",
              "       0., 0., 0., 0., 0., 1., 0., 0., 0., 0., 0., 1., 0., 0., 0., 0., 0.,\n",
              "       0., 0., 0., 0., 0., 0., 0., 0., 0., 0., 0., 1., 0., 0., 0., 1., 0.,\n",
              "       0., 0., 1., 0., 0., 0., 0., 0., 0., 1., 0., 0., 0., 0., 0., 0., 0.,\n",
              "       0., 0., 0., 0., 0., 0., 0., 0., 1., 0., 1., 0., 0., 0., 0., 0., 0.,\n",
              "       0., 1., 0., 0., 0., 0., 1., 0., 0., 0., 0., 0., 0., 0., 0., 0., 0.,\n",
              "       0., 0., 0., 0., 0., 0., 0., 1., 0., 0., 0., 0., 0., 0., 0., 0., 0.,\n",
              "       0., 0., 1., 0., 0., 0., 0., 0., 0., 0., 0., 0., 1., 0., 0., 0., 0.,\n",
              "       0., 0., 0., 0., 0., 0., 0., 0., 0., 0., 0., 0., 0., 0., 0., 0., 0.,\n",
              "       0., 0., 0., 0., 0., 0.])"
            ]
          },
          "execution_count": 44,
          "metadata": {},
          "output_type": "execute_result"
        }
      ],
      "source": [
        "ccsdt.predict(X_test)"
      ]
    },
    {
      "cell_type": "code",
      "execution_count": null,
      "id": "f86ace54",
      "metadata": {},
      "outputs": [],
      "source": []
    },
    {
      "cell_type": "code",
      "execution_count": null,
      "id": "9d5a8daf",
      "metadata": {},
      "outputs": [],
      "source": []
    },
    {
      "cell_type": "code",
      "execution_count": null,
      "id": "58618def",
      "metadata": {},
      "outputs": [],
      "source": [
        "buga = CostSensitiveDecisionTreeClassifier(**cs_best_params)\n",
        "\n",
        "cost_mat_train = prepare_for_cost_cle(len(X), np.array([[0, 1], [1000, 0]]))\n",
        "cost_mat_train\n",
        "\n",
        "buga.fit(X.values, y.values, cost_mat=cost_mat_train)"
      ]
    },
    {
      "cell_type": "code",
      "execution_count": null,
      "id": "b5eb037a",
      "metadata": {},
      "outputs": [],
      "source": [
        "buga.predict(X.values).mean()"
      ]
    },
    {
      "cell_type": "code",
      "execution_count": null,
      "id": "81ed3028",
      "metadata": {},
      "outputs": [],
      "source": [
        "y_pred = buga.predict_proba(X.values)[:, 1]\n",
        "ax = pd.cut(pd.Series(y_pred), bins = np.linspace(0,1,11)).value_counts(normalize=True).plot.bar(grid=True)\n",
        "ax.set_ylabel('Percentage of samples')\n",
        "ax.set_yticks(np.linspace(0, 1, 11))"
      ]
    },
    {
      "cell_type": "code",
      "execution_count": null,
      "id": "544c9d5e",
      "metadata": {},
      "outputs": [],
      "source": [
        "pd.Series().plot.hist(bins=np.linspace(0,1,11), density=True)"
      ]
    },
    {
      "cell_type": "code",
      "execution_count": null,
      "id": "df85007b",
      "metadata": {},
      "outputs": [],
      "source": [
        "clf_cs_dt = CostSensitiveDecisionTreeClassifier()\n",
        "clf_cs_dt.set_params(**cs_best_params)\n",
        "\n",
        "clf_dt = DecisionTreeClassifier()\n",
        "clf_dt.set_params(**dt_best_params)"
      ]
    },
    {
      "cell_type": "code",
      "execution_count": null,
      "id": "5f90b729",
      "metadata": {},
      "outputs": [],
      "source": [
        "clf_dt.fit(X, y)\n",
        "y_pred = clf_dt.predict_proba(X)[:, 1]\n",
        "y_pred = prediction_up_to_constraint(y_pred, 3000)\n",
        "evaluate(y, y_pred, COST_MATRIX)\n"
      ]
    },
    {
      "cell_type": "code",
      "execution_count": null,
      "id": "90c2d3f4",
      "metadata": {},
      "outputs": [],
      "source": [
        "confusion_matrix(y, y_pred)"
      ]
    },
    {
      "cell_type": "code",
      "execution_count": null,
      "metadata": {},
      "outputs": [],
      "source": []
    },
    {
      "cell_type": "code",
      "execution_count": null,
      "id": "6bad5f7c",
      "metadata": {},
      "outputs": [],
      "source": []
    },
    {
      "cell_type": "code",
      "execution_count": null,
      "id": "0a67d400",
      "metadata": {},
      "outputs": [],
      "source": [
        "# buga = full_experiment(\n",
        "#     clf=clf_cs_dt, \n",
        "#     random_state=42, \n",
        "#     X=X.values, \n",
        "#     y=y.values, \n",
        "#     cost_matrix=COST_MATRIX, \n",
        "#     constraint=None)"
      ]
    },
    {
      "cell_type": "code",
      "execution_count": null,
      "id": "f76a397f",
      "metadata": {},
      "outputs": [],
      "source": []
    },
    {
      "cell_type": "code",
      "execution_count": null,
      "id": "2873182c",
      "metadata": {},
      "outputs": [],
      "source": [
        "classfication_report_with_cost(y, y_pred, COST_MATRIX)"
      ]
    },
    {
      "cell_type": "code",
      "execution_count": null,
      "id": "5d01767f",
      "metadata": {},
      "outputs": [],
      "source": [
        "classfication_report_with_cost(y, y_pred, COST_MATRIX)"
      ]
    },
    {
      "cell_type": "code",
      "execution_count": null,
      "id": "3086a058",
      "metadata": {},
      "outputs": [],
      "source": [
        "confusion_matrix(y, y_pred)"
      ]
    },
    {
      "cell_type": "code",
      "execution_count": 183,
      "id": "50715aa7",
      "metadata": {},
      "outputs": [],
      "source": [
        "buga = prepare_for_cost_cle(len(y), COST_MATRIX)"
      ]
    },
    {
      "cell_type": "code",
      "execution_count": null,
      "id": "0fd73787",
      "metadata": {},
      "outputs": [],
      "source": [
        "clf_cs_dt.fit(X.values, y.values, buga)"
      ]
    },
    {
      "cell_type": "code",
      "execution_count": null,
      "id": "8e19258e",
      "metadata": {},
      "outputs": [],
      "source": [
        "clf_cs_dt.predict_proba(X.values)[:, 1]"
      ]
    },
    {
      "cell_type": "code",
      "execution_count": null,
      "id": "0c315c2b",
      "metadata": {
        "id": "0c315c2b",
        "outputId": "6b56ecdb-c4ea-49de-cab6-3a77f86a995a"
      },
      "outputs": [],
      "source": [
        "X = df.drop(labels = 'Response', axis=1)\n",
        "y = df['Response']\n",
        "\n",
        "# drop columns\n",
        "worst_features =[]\n",
        "for i,v in enumerate(mutual_info):\n",
        "    if v in sorted(mutual_info)[:17]: # update to 0.75*num_of_features\n",
        "        worst_features.append(i)\n",
        "print(worst_features)\n",
        "X_17 = X.iloc[:, worst_features]\n",
        "X_17 = X_17.to_numpy()\n",
        "\n",
        "worst_features =[]\n",
        "for i,v in enumerate(mutual_info):\n",
        "    if v in sorted(mutual_info)[:11]: # update to 0.5*num_of_features\n",
        "        worst_features.append(i)\n",
        "print(worst_features)\n",
        "X_11 = X.iloc[:, worst_features]\n",
        "X_11 = X_11.to_numpy()\n",
        "\n",
        "X = X.to_numpy()\n",
        "y = y.to_numpy()\n",
        "r = y*cfn +(1-y)*(-cfp)"
      ]
    },
    {
      "cell_type": "code",
      "execution_count": null,
      "id": "829a1887",
      "metadata": {},
      "outputs": [],
      "source": [
        "y*COST_FALSE_NEGATIVE + (1-y)*(-COST_FALSE_POSITIVE)"
      ]
    },
    {
      "cell_type": "code",
      "execution_count": 21,
      "id": "8b94091c",
      "metadata": {
        "id": "8b94091c"
      },
      "outputs": [],
      "source": [
        "# X_train, X_test, y_train, y_test = train_test_split(X, y, test_size=0.33, random_state=42)\n",
        "# cost_mat_train_i = cost_mat(1,10,y_train)\n",
        "# clf_cs_dt.fit(np.array(X_train),np.array(y_train), cost_mat_train_i)\n",
        "# y_pred_proba_i= clf_cs_dt.predict_proba(np.array(X_train))\n",
        "# y_pred_probs_i = [y_pred_proba_i[j][1] for j in range(len(y_pred_proba_i))]\n",
        "# d_t_i = get_dynamic_threshold(y_pred_probs_i,100,0.5)"
      ]
    },
    {
      "cell_type": "code",
      "execution_count": null,
      "id": "4ecda30f",
      "metadata": {
        "id": "4ecda30f",
        "outputId": "b24bc1a5-3118-45cc-e936-fd22447c058b"
      },
      "outputs": [],
      "source": [
        "#apply the experimnt on differnt slices of the dataset\n",
        "clf_cs_dt = CostSensitiveDecisionTreeClassifier(min_samples_leaf = best_combination[0], max_depth = best_combination[1],\n",
        "                                              pruned = best_combination[2], min_gain = best_combination[3])\n",
        "\n",
        "# for smoozing the graph - repeat the experiment with 10 different CV\n",
        "random_state_list = [24]#, 6, 18, 32, 76, 5, 40, 12, 31, 9]\n",
        "constraint = [50, 60]\n",
        "result_dict_all, result_dict_075, result_dict_05 = {}, {}, {}\n",
        "for random_state in random_state_list:\n",
        "    print('********', random_state, '********')\n",
        "\n",
        "    fold_dict_all = experiment(clf_cs_dt, clf_dt, random_state, X, y, cfp, cfn, constraint)\n",
        "    result_dict_all[random_state] = fold_dict_all\n",
        "\n",
        "#     fold_dict_075 = experiment(clf, clf_dt, random_state, X_17, y, r, cfp, cfn, constraint)\n",
        "#     result_dict_075[random_state] = fold_dict_075\n",
        "\n",
        "#     fold_dict_05 = experiment(clf, clf_dt, random_state, X_11, y, r, cfp, cfn, constraint)\n",
        "#     result_dict_05[random_state] = fold_dict_05\n",
        "\n"
      ]
    },
    {
      "cell_type": "code",
      "execution_count": null,
      "id": "6f4c9ef2",
      "metadata": {
        "id": "6f4c9ef2"
      },
      "outputs": [],
      "source": [
        "# #save data\n",
        "# with open('result_dict_05.pickle', 'wb') as handle:\n",
        "#     pickle.dump(result_dict_05, handle, protocol=pickle.HIGHEST_PROTOCOL)\n",
        "\n",
        "# with open('result_dict_075.pickle', 'wb') as handle:\n",
        "#     pickle.dump(result_dict_075, handle, protocol=pickle.HIGHEST_PROTOCOL)\n",
        "\n",
        "# with open('result_dict_all.pickle', 'wb') as handle:\n",
        "#     pickle.dump(result_dict_all, handle, protocol=pickle.HIGHEST_PROTOCOL)"
      ]
    },
    {
      "cell_type": "code",
      "execution_count": null,
      "id": "74dd72ae",
      "metadata": {
        "id": "74dd72ae"
      },
      "outputs": [],
      "source": [
        "# #load data\n",
        "# #random_state_list = [24, 6, 18, 32, 76, 5, 40, 12, 31, 9]\n",
        "\n",
        "# with open('marketing_result_dict_11_v2.pickle', 'rb') as handle:\n",
        "#     marketing_result_dict_11 = pickle.load(handle)\n",
        "\n",
        "# with open('marketing_result_dict_17_v2.pickle', 'rb') as handle:\n",
        "#     marketing_result_dict_17 = pickle.load(handle)\n",
        "\n",
        "# with open('marketing_result_dict_all_v2.pickle', 'rb') as handle:\n",
        "#     marketing_result_dict_all = pickle.load(handle)"
      ]
    },
    {
      "cell_type": "code",
      "execution_count": null,
      "id": "d763c397",
      "metadata": {},
      "outputs": [],
      "source": [
        "result_dict_all[24][1][\"cs\"]"
      ]
    },
    {
      "cell_type": "code",
      "execution_count": null,
      "id": "2316dc8f",
      "metadata": {
        "id": "2316dc8f",
        "outputId": "45d03fe3-db90-4ea3-d2a8-39bd8773a427",
        "scrolled": true
      },
      "outputs": [],
      "source": [
        "pd.DataFrame(result_dict_all[24][1]['cs'])"
      ]
    },
    {
      "cell_type": "code",
      "execution_count": null,
      "id": "5e68df14",
      "metadata": {},
      "outputs": [],
      "source": [
        "pd.DataFrame(result_dict_all[24][1][\"optimal\"])"
      ]
    },
    {
      "cell_type": "code",
      "execution_count": 28,
      "id": "bad51c5f",
      "metadata": {
        "id": "bad51c5f"
      },
      "outputs": [],
      "source": [
        "cs_measure, dt_measure, one_before_measure, itr_list = get_measure_list(result_dict_all, 'cost', random_state_list, constraint)"
      ]
    },
    {
      "cell_type": "code",
      "execution_count": null,
      "id": "1e1d2954",
      "metadata": {},
      "outputs": [],
      "source": [
        "one_before_measure"
      ]
    },
    {
      "cell_type": "code",
      "execution_count": null,
      "id": "b7df6027",
      "metadata": {
        "id": "b7df6027",
        "outputId": "ea6696ac-b5c8-4b35-b213-98f2f2e7337b",
        "scrolled": false
      },
      "outputs": [],
      "source": [
        "plt.plot(constraint, get_mean_list(one_before_measure), label = 'AdaCSL-WRC')\n",
        "plt.plot(constraint, get_mean_list(cs_measure), label = 'CS-DT')\n",
        "plt.plot(constraint, get_mean_list(dt_measure), label = 'DT')\n",
        "plt.ylabel('Cost')\n",
        "plt.xlabel('Constraint')\n",
        "plt.legend()\n",
        "plt.show()"
      ]
    },
    {
      "cell_type": "code",
      "execution_count": null,
      "id": "81b3b73d",
      "metadata": {},
      "outputs": [],
      "source": [
        "#create conda env\n",
        "#conda create --name AdaCSL_WRC python=3.7"
      ]
    },
    {
      "cell_type": "code",
      "execution_count": null,
      "id": "9b90e89f",
      "metadata": {
        "id": "9b90e89f",
        "outputId": "b701e239-6aa8-4b99-ced2-d75ac1e32a98"
      },
      "outputs": [],
      "source": [
        "!pip freeze"
      ]
    },
    {
      "cell_type": "code",
      "execution_count": null,
      "id": "66877a00",
      "metadata": {
        "id": "66877a00"
      },
      "outputs": [],
      "source": [
        "!pip freeze"
      ]
    }
  ],
  "metadata": {
    "colab": {
      "provenance": []
    },
    "kernelspec": {
      "display_name": "Python 3",
      "language": "python",
      "name": "python3"
    },
    "language_info": {
      "codemirror_mode": {
        "name": "ipython",
        "version": 3
      },
      "file_extension": ".py",
      "mimetype": "text/x-python",
      "name": "python",
      "nbconvert_exporter": "python",
      "pygments_lexer": "ipython3",
      "version": "3.11.5"
    }
  },
  "nbformat": 4,
  "nbformat_minor": 5
}
